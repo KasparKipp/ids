{
 "cells": [
  {
   "cell_type": "markdown",
   "metadata": {
    "id": "aINJm5wtInGY"
   },
   "source": [
    "# IDS projekt"
   ]
  },
  {
   "cell_type": "markdown",
   "metadata": {
    "id": "BlZUqosoIp8L"
   },
   "source": [
    "## 1. Data\n"
   ]
  },
  {
   "cell_type": "code",
   "metadata": {
    "colab": {
     "base_uri": "https://localhost:8080/"
    },
    "executionInfo": {
     "elapsed": 24472,
     "status": "ok",
     "timestamp": 1733730290885,
     "user": {
      "displayName": "Andres Rõõm",
      "userId": "11581507521874958776"
     },
     "user_tz": -120
    },
    "id": "CwVPeWAeIleF",
    "outputId": "98271673-9a3e-49ce-abba-1251061ef2ec",
    "ExecuteTime": {
     "end_time": "2024-12-09T09:14:19.841432Z",
     "start_time": "2024-12-09T09:14:19.835915Z"
    }
   },
   "source": [
    "import os\n",
    "# If running on Google Colab uncomment the following lines\n",
    "# and ensure you have the contents of the unzipped ids_projekt\n",
    "# in your drive\n",
    "\n",
    "#from google.colab import drive\n",
    "#drive.mount('/content/drive/')\n",
    "\n",
    "\n",
    "#print(\"moving to 'My Drive'\")\n",
    "#os.chdir(\"drive/My Drive/\")"
   ],
   "outputs": [],
   "execution_count": 33
  },
  {
   "cell_type": "markdown",
   "metadata": {
    "id": "UqwEz_N0VnXz"
   },
   "source": [
    "### 1.1 Exploring raw data"
   ]
  },
  {
   "cell_type": "code",
   "metadata": {
    "colab": {
     "base_uri": "https://localhost:8080/"
    },
    "executionInfo": {
     "elapsed": 1006,
     "status": "ok",
     "timestamp": 1733730437152,
     "user": {
      "displayName": "Andres Rõõm",
      "userId": "11581507521874958776"
     },
     "user_tz": -120
    },
    "id": "mrwSMC89Jkh8",
    "outputId": "fe48fbad-b0dc-4488-e258-1e37035194e9",
    "ExecuteTime": {
     "end_time": "2024-12-09T09:14:20.033127Z",
     "start_time": "2024-12-09T09:14:20.025053Z"
    }
   },
   "source": [
    "#\n",
    "project_dir = \"ids_projekt\"\n",
    "files = os.listdir(project_dir)\n",
    "files.sort()\n",
    "\n",
    "\n",
    "general_data_dir = files[0]\n",
    "files = files[1:]\n",
    "\n",
    "\n",
    "files[:5]\n"
   ],
   "outputs": [
    {
     "data": {
      "text/plain": [
       "['tasutud_maksud_2020_i_kvartal_eng.csv',\n",
       " 'tasutud_maksud_2020_ii_kvartal_eng.csv',\n",
       " 'tasutud_maksud_2020_iii_kvartal_eng.csv',\n",
       " 'tasutud_maksud_2020_iv_kvartal_eng.csv',\n",
       " 'tasutud_maksud_2021_i_kvartal_eng.csv']"
      ]
     },
     "execution_count": 34,
     "metadata": {},
     "output_type": "execute_result"
    }
   ],
   "execution_count": 34
  },
  {
   "cell_type": "code",
   "metadata": {
    "colab": {
     "base_uri": "https://localhost:8080/"
    },
    "executionInfo": {
     "elapsed": 28144,
     "status": "ok",
     "timestamp": 1733730466354,
     "user": {
      "displayName": "Andres Rõõm",
      "userId": "11581507521874958776"
     },
     "user_tz": -120
    },
    "id": "qLNW9VFOWFt6",
    "outputId": "7651455a-8501-4c5b-f0d0-77492821fab7",
    "ExecuteTime": {
     "end_time": "2024-12-09T09:14:24.560387Z",
     "start_time": "2024-12-09T09:14:20.049181Z"
    }
   },
   "source": [
    "# Looking into I quarter 2020\n",
    "i_quarter_2020 = files[0]\n",
    "!pip install chardet\n",
    "import chardet\n",
    "\n",
    "# Read a small chunk of the file to analyze its encoding\n",
    "for file in files:\n",
    "  with open(f\"{project_dir}/{file}\", 'rb') as file:\n",
    "    print(f\"Detecting encoding for {files}\")\n",
    "    raw_data = file.read(10000)  # Read the first 10,000 bytes\n",
    "    result = chardet.detect(raw_data)\n",
    "    encoding = result['encoding']\n",
    "    print(\"Detected encoding:\", encoding)"
   ],
   "outputs": [
    {
     "name": "stdout",
     "output_type": "stream",
     "text": [
      "Requirement already satisfied: chardet in c:\\users\\kaspa\\miniconda3\\lib\\site-packages (5.2.0)\n",
      "Detecting encoding for ['tasutud_maksud_2020_i_kvartal_eng.csv', 'tasutud_maksud_2020_ii_kvartal_eng.csv', 'tasutud_maksud_2020_iii_kvartal_eng.csv', 'tasutud_maksud_2020_iv_kvartal_eng.csv', 'tasutud_maksud_2021_i_kvartal_eng.csv', 'tasutud_maksud_2021_ii_kvartal_eng.csv', 'tasutud_maksud_2021_iii_kvartal_eng.csv', 'tasutud_maksud_2021_iv_kvartal_eng.csv', 'tasutud_maksud_2022_i_kvartal_eng.csv', 'tasutud_maksud_2022_ii_kvartal_eng.csv', 'tasutud_maksud_2022_iii_kvartal_eng.csv', 'tasutud_maksud_2022_iv_kvartal_eng.csv', 'tasutud_maksud_2023_i_kvartal_eng.csv', 'tasutud_maksud_2023_ii_kvartal_eng.csv', 'tasutud_maksud_2023_iii_kvartal_eng.csv', 'tasutud_maksud_2023_iv_kvartal_eng.csv', 'tasutud_maksud_2024_i_kvartal_eng.csv', 'tasutud_maksud_2024_ii_kvartal_eng.csv', 'tasutud_maksud_2024_iii_kvartal_eng.csv']\n",
      "Detected encoding: ISO-8859-1\n",
      "Detecting encoding for ['tasutud_maksud_2020_i_kvartal_eng.csv', 'tasutud_maksud_2020_ii_kvartal_eng.csv', 'tasutud_maksud_2020_iii_kvartal_eng.csv', 'tasutud_maksud_2020_iv_kvartal_eng.csv', 'tasutud_maksud_2021_i_kvartal_eng.csv', 'tasutud_maksud_2021_ii_kvartal_eng.csv', 'tasutud_maksud_2021_iii_kvartal_eng.csv', 'tasutud_maksud_2021_iv_kvartal_eng.csv', 'tasutud_maksud_2022_i_kvartal_eng.csv', 'tasutud_maksud_2022_ii_kvartal_eng.csv', 'tasutud_maksud_2022_iii_kvartal_eng.csv', 'tasutud_maksud_2022_iv_kvartal_eng.csv', 'tasutud_maksud_2023_i_kvartal_eng.csv', 'tasutud_maksud_2023_ii_kvartal_eng.csv', 'tasutud_maksud_2023_iii_kvartal_eng.csv', 'tasutud_maksud_2023_iv_kvartal_eng.csv', 'tasutud_maksud_2024_i_kvartal_eng.csv', 'tasutud_maksud_2024_ii_kvartal_eng.csv', 'tasutud_maksud_2024_iii_kvartal_eng.csv']\n",
      "Detected encoding: ISO-8859-1\n",
      "Detecting encoding for ['tasutud_maksud_2020_i_kvartal_eng.csv', 'tasutud_maksud_2020_ii_kvartal_eng.csv', 'tasutud_maksud_2020_iii_kvartal_eng.csv', 'tasutud_maksud_2020_iv_kvartal_eng.csv', 'tasutud_maksud_2021_i_kvartal_eng.csv', 'tasutud_maksud_2021_ii_kvartal_eng.csv', 'tasutud_maksud_2021_iii_kvartal_eng.csv', 'tasutud_maksud_2021_iv_kvartal_eng.csv', 'tasutud_maksud_2022_i_kvartal_eng.csv', 'tasutud_maksud_2022_ii_kvartal_eng.csv', 'tasutud_maksud_2022_iii_kvartal_eng.csv', 'tasutud_maksud_2022_iv_kvartal_eng.csv', 'tasutud_maksud_2023_i_kvartal_eng.csv', 'tasutud_maksud_2023_ii_kvartal_eng.csv', 'tasutud_maksud_2023_iii_kvartal_eng.csv', 'tasutud_maksud_2023_iv_kvartal_eng.csv', 'tasutud_maksud_2024_i_kvartal_eng.csv', 'tasutud_maksud_2024_ii_kvartal_eng.csv', 'tasutud_maksud_2024_iii_kvartal_eng.csv']\n",
      "Detected encoding: ISO-8859-1\n",
      "Detecting encoding for ['tasutud_maksud_2020_i_kvartal_eng.csv', 'tasutud_maksud_2020_ii_kvartal_eng.csv', 'tasutud_maksud_2020_iii_kvartal_eng.csv', 'tasutud_maksud_2020_iv_kvartal_eng.csv', 'tasutud_maksud_2021_i_kvartal_eng.csv', 'tasutud_maksud_2021_ii_kvartal_eng.csv', 'tasutud_maksud_2021_iii_kvartal_eng.csv', 'tasutud_maksud_2021_iv_kvartal_eng.csv', 'tasutud_maksud_2022_i_kvartal_eng.csv', 'tasutud_maksud_2022_ii_kvartal_eng.csv', 'tasutud_maksud_2022_iii_kvartal_eng.csv', 'tasutud_maksud_2022_iv_kvartal_eng.csv', 'tasutud_maksud_2023_i_kvartal_eng.csv', 'tasutud_maksud_2023_ii_kvartal_eng.csv', 'tasutud_maksud_2023_iii_kvartal_eng.csv', 'tasutud_maksud_2023_iv_kvartal_eng.csv', 'tasutud_maksud_2024_i_kvartal_eng.csv', 'tasutud_maksud_2024_ii_kvartal_eng.csv', 'tasutud_maksud_2024_iii_kvartal_eng.csv']\n",
      "Detected encoding: ISO-8859-1\n",
      "Detecting encoding for ['tasutud_maksud_2020_i_kvartal_eng.csv', 'tasutud_maksud_2020_ii_kvartal_eng.csv', 'tasutud_maksud_2020_iii_kvartal_eng.csv', 'tasutud_maksud_2020_iv_kvartal_eng.csv', 'tasutud_maksud_2021_i_kvartal_eng.csv', 'tasutud_maksud_2021_ii_kvartal_eng.csv', 'tasutud_maksud_2021_iii_kvartal_eng.csv', 'tasutud_maksud_2021_iv_kvartal_eng.csv', 'tasutud_maksud_2022_i_kvartal_eng.csv', 'tasutud_maksud_2022_ii_kvartal_eng.csv', 'tasutud_maksud_2022_iii_kvartal_eng.csv', 'tasutud_maksud_2022_iv_kvartal_eng.csv', 'tasutud_maksud_2023_i_kvartal_eng.csv', 'tasutud_maksud_2023_ii_kvartal_eng.csv', 'tasutud_maksud_2023_iii_kvartal_eng.csv', 'tasutud_maksud_2023_iv_kvartal_eng.csv', 'tasutud_maksud_2024_i_kvartal_eng.csv', 'tasutud_maksud_2024_ii_kvartal_eng.csv', 'tasutud_maksud_2024_iii_kvartal_eng.csv']\n",
      "Detected encoding: ISO-8859-1\n",
      "Detecting encoding for ['tasutud_maksud_2020_i_kvartal_eng.csv', 'tasutud_maksud_2020_ii_kvartal_eng.csv', 'tasutud_maksud_2020_iii_kvartal_eng.csv', 'tasutud_maksud_2020_iv_kvartal_eng.csv', 'tasutud_maksud_2021_i_kvartal_eng.csv', 'tasutud_maksud_2021_ii_kvartal_eng.csv', 'tasutud_maksud_2021_iii_kvartal_eng.csv', 'tasutud_maksud_2021_iv_kvartal_eng.csv', 'tasutud_maksud_2022_i_kvartal_eng.csv', 'tasutud_maksud_2022_ii_kvartal_eng.csv', 'tasutud_maksud_2022_iii_kvartal_eng.csv', 'tasutud_maksud_2022_iv_kvartal_eng.csv', 'tasutud_maksud_2023_i_kvartal_eng.csv', 'tasutud_maksud_2023_ii_kvartal_eng.csv', 'tasutud_maksud_2023_iii_kvartal_eng.csv', 'tasutud_maksud_2023_iv_kvartal_eng.csv', 'tasutud_maksud_2024_i_kvartal_eng.csv', 'tasutud_maksud_2024_ii_kvartal_eng.csv', 'tasutud_maksud_2024_iii_kvartal_eng.csv']\n",
      "Detected encoding: ISO-8859-1\n",
      "Detecting encoding for ['tasutud_maksud_2020_i_kvartal_eng.csv', 'tasutud_maksud_2020_ii_kvartal_eng.csv', 'tasutud_maksud_2020_iii_kvartal_eng.csv', 'tasutud_maksud_2020_iv_kvartal_eng.csv', 'tasutud_maksud_2021_i_kvartal_eng.csv', 'tasutud_maksud_2021_ii_kvartal_eng.csv', 'tasutud_maksud_2021_iii_kvartal_eng.csv', 'tasutud_maksud_2021_iv_kvartal_eng.csv', 'tasutud_maksud_2022_i_kvartal_eng.csv', 'tasutud_maksud_2022_ii_kvartal_eng.csv', 'tasutud_maksud_2022_iii_kvartal_eng.csv', 'tasutud_maksud_2022_iv_kvartal_eng.csv', 'tasutud_maksud_2023_i_kvartal_eng.csv', 'tasutud_maksud_2023_ii_kvartal_eng.csv', 'tasutud_maksud_2023_iii_kvartal_eng.csv', 'tasutud_maksud_2023_iv_kvartal_eng.csv', 'tasutud_maksud_2024_i_kvartal_eng.csv', 'tasutud_maksud_2024_ii_kvartal_eng.csv', 'tasutud_maksud_2024_iii_kvartal_eng.csv']\n",
      "Detected encoding: ISO-8859-1\n",
      "Detecting encoding for ['tasutud_maksud_2020_i_kvartal_eng.csv', 'tasutud_maksud_2020_ii_kvartal_eng.csv', 'tasutud_maksud_2020_iii_kvartal_eng.csv', 'tasutud_maksud_2020_iv_kvartal_eng.csv', 'tasutud_maksud_2021_i_kvartal_eng.csv', 'tasutud_maksud_2021_ii_kvartal_eng.csv', 'tasutud_maksud_2021_iii_kvartal_eng.csv', 'tasutud_maksud_2021_iv_kvartal_eng.csv', 'tasutud_maksud_2022_i_kvartal_eng.csv', 'tasutud_maksud_2022_ii_kvartal_eng.csv', 'tasutud_maksud_2022_iii_kvartal_eng.csv', 'tasutud_maksud_2022_iv_kvartal_eng.csv', 'tasutud_maksud_2023_i_kvartal_eng.csv', 'tasutud_maksud_2023_ii_kvartal_eng.csv', 'tasutud_maksud_2023_iii_kvartal_eng.csv', 'tasutud_maksud_2023_iv_kvartal_eng.csv', 'tasutud_maksud_2024_i_kvartal_eng.csv', 'tasutud_maksud_2024_ii_kvartal_eng.csv', 'tasutud_maksud_2024_iii_kvartal_eng.csv']\n",
      "Detected encoding: ISO-8859-1\n",
      "Detecting encoding for ['tasutud_maksud_2020_i_kvartal_eng.csv', 'tasutud_maksud_2020_ii_kvartal_eng.csv', 'tasutud_maksud_2020_iii_kvartal_eng.csv', 'tasutud_maksud_2020_iv_kvartal_eng.csv', 'tasutud_maksud_2021_i_kvartal_eng.csv', 'tasutud_maksud_2021_ii_kvartal_eng.csv', 'tasutud_maksud_2021_iii_kvartal_eng.csv', 'tasutud_maksud_2021_iv_kvartal_eng.csv', 'tasutud_maksud_2022_i_kvartal_eng.csv', 'tasutud_maksud_2022_ii_kvartal_eng.csv', 'tasutud_maksud_2022_iii_kvartal_eng.csv', 'tasutud_maksud_2022_iv_kvartal_eng.csv', 'tasutud_maksud_2023_i_kvartal_eng.csv', 'tasutud_maksud_2023_ii_kvartal_eng.csv', 'tasutud_maksud_2023_iii_kvartal_eng.csv', 'tasutud_maksud_2023_iv_kvartal_eng.csv', 'tasutud_maksud_2024_i_kvartal_eng.csv', 'tasutud_maksud_2024_ii_kvartal_eng.csv', 'tasutud_maksud_2024_iii_kvartal_eng.csv']\n",
      "Detected encoding: ISO-8859-1\n",
      "Detecting encoding for ['tasutud_maksud_2020_i_kvartal_eng.csv', 'tasutud_maksud_2020_ii_kvartal_eng.csv', 'tasutud_maksud_2020_iii_kvartal_eng.csv', 'tasutud_maksud_2020_iv_kvartal_eng.csv', 'tasutud_maksud_2021_i_kvartal_eng.csv', 'tasutud_maksud_2021_ii_kvartal_eng.csv', 'tasutud_maksud_2021_iii_kvartal_eng.csv', 'tasutud_maksud_2021_iv_kvartal_eng.csv', 'tasutud_maksud_2022_i_kvartal_eng.csv', 'tasutud_maksud_2022_ii_kvartal_eng.csv', 'tasutud_maksud_2022_iii_kvartal_eng.csv', 'tasutud_maksud_2022_iv_kvartal_eng.csv', 'tasutud_maksud_2023_i_kvartal_eng.csv', 'tasutud_maksud_2023_ii_kvartal_eng.csv', 'tasutud_maksud_2023_iii_kvartal_eng.csv', 'tasutud_maksud_2023_iv_kvartal_eng.csv', 'tasutud_maksud_2024_i_kvartal_eng.csv', 'tasutud_maksud_2024_ii_kvartal_eng.csv', 'tasutud_maksud_2024_iii_kvartal_eng.csv']\n",
      "Detected encoding: ISO-8859-1\n",
      "Detecting encoding for ['tasutud_maksud_2020_i_kvartal_eng.csv', 'tasutud_maksud_2020_ii_kvartal_eng.csv', 'tasutud_maksud_2020_iii_kvartal_eng.csv', 'tasutud_maksud_2020_iv_kvartal_eng.csv', 'tasutud_maksud_2021_i_kvartal_eng.csv', 'tasutud_maksud_2021_ii_kvartal_eng.csv', 'tasutud_maksud_2021_iii_kvartal_eng.csv', 'tasutud_maksud_2021_iv_kvartal_eng.csv', 'tasutud_maksud_2022_i_kvartal_eng.csv', 'tasutud_maksud_2022_ii_kvartal_eng.csv', 'tasutud_maksud_2022_iii_kvartal_eng.csv', 'tasutud_maksud_2022_iv_kvartal_eng.csv', 'tasutud_maksud_2023_i_kvartal_eng.csv', 'tasutud_maksud_2023_ii_kvartal_eng.csv', 'tasutud_maksud_2023_iii_kvartal_eng.csv', 'tasutud_maksud_2023_iv_kvartal_eng.csv', 'tasutud_maksud_2024_i_kvartal_eng.csv', 'tasutud_maksud_2024_ii_kvartal_eng.csv', 'tasutud_maksud_2024_iii_kvartal_eng.csv']\n",
      "Detected encoding: ISO-8859-1\n",
      "Detecting encoding for ['tasutud_maksud_2020_i_kvartal_eng.csv', 'tasutud_maksud_2020_ii_kvartal_eng.csv', 'tasutud_maksud_2020_iii_kvartal_eng.csv', 'tasutud_maksud_2020_iv_kvartal_eng.csv', 'tasutud_maksud_2021_i_kvartal_eng.csv', 'tasutud_maksud_2021_ii_kvartal_eng.csv', 'tasutud_maksud_2021_iii_kvartal_eng.csv', 'tasutud_maksud_2021_iv_kvartal_eng.csv', 'tasutud_maksud_2022_i_kvartal_eng.csv', 'tasutud_maksud_2022_ii_kvartal_eng.csv', 'tasutud_maksud_2022_iii_kvartal_eng.csv', 'tasutud_maksud_2022_iv_kvartal_eng.csv', 'tasutud_maksud_2023_i_kvartal_eng.csv', 'tasutud_maksud_2023_ii_kvartal_eng.csv', 'tasutud_maksud_2023_iii_kvartal_eng.csv', 'tasutud_maksud_2023_iv_kvartal_eng.csv', 'tasutud_maksud_2024_i_kvartal_eng.csv', 'tasutud_maksud_2024_ii_kvartal_eng.csv', 'tasutud_maksud_2024_iii_kvartal_eng.csv']\n",
      "Detected encoding: ISO-8859-1\n",
      "Detecting encoding for ['tasutud_maksud_2020_i_kvartal_eng.csv', 'tasutud_maksud_2020_ii_kvartal_eng.csv', 'tasutud_maksud_2020_iii_kvartal_eng.csv', 'tasutud_maksud_2020_iv_kvartal_eng.csv', 'tasutud_maksud_2021_i_kvartal_eng.csv', 'tasutud_maksud_2021_ii_kvartal_eng.csv', 'tasutud_maksud_2021_iii_kvartal_eng.csv', 'tasutud_maksud_2021_iv_kvartal_eng.csv', 'tasutud_maksud_2022_i_kvartal_eng.csv', 'tasutud_maksud_2022_ii_kvartal_eng.csv', 'tasutud_maksud_2022_iii_kvartal_eng.csv', 'tasutud_maksud_2022_iv_kvartal_eng.csv', 'tasutud_maksud_2023_i_kvartal_eng.csv', 'tasutud_maksud_2023_ii_kvartal_eng.csv', 'tasutud_maksud_2023_iii_kvartal_eng.csv', 'tasutud_maksud_2023_iv_kvartal_eng.csv', 'tasutud_maksud_2024_i_kvartal_eng.csv', 'tasutud_maksud_2024_ii_kvartal_eng.csv', 'tasutud_maksud_2024_iii_kvartal_eng.csv']\n",
      "Detected encoding: ISO-8859-1\n",
      "Detecting encoding for ['tasutud_maksud_2020_i_kvartal_eng.csv', 'tasutud_maksud_2020_ii_kvartal_eng.csv', 'tasutud_maksud_2020_iii_kvartal_eng.csv', 'tasutud_maksud_2020_iv_kvartal_eng.csv', 'tasutud_maksud_2021_i_kvartal_eng.csv', 'tasutud_maksud_2021_ii_kvartal_eng.csv', 'tasutud_maksud_2021_iii_kvartal_eng.csv', 'tasutud_maksud_2021_iv_kvartal_eng.csv', 'tasutud_maksud_2022_i_kvartal_eng.csv', 'tasutud_maksud_2022_ii_kvartal_eng.csv', 'tasutud_maksud_2022_iii_kvartal_eng.csv', 'tasutud_maksud_2022_iv_kvartal_eng.csv', 'tasutud_maksud_2023_i_kvartal_eng.csv', 'tasutud_maksud_2023_ii_kvartal_eng.csv', 'tasutud_maksud_2023_iii_kvartal_eng.csv', 'tasutud_maksud_2023_iv_kvartal_eng.csv', 'tasutud_maksud_2024_i_kvartal_eng.csv', 'tasutud_maksud_2024_ii_kvartal_eng.csv', 'tasutud_maksud_2024_iii_kvartal_eng.csv']\n",
      "Detected encoding: ISO-8859-1\n",
      "Detecting encoding for ['tasutud_maksud_2020_i_kvartal_eng.csv', 'tasutud_maksud_2020_ii_kvartal_eng.csv', 'tasutud_maksud_2020_iii_kvartal_eng.csv', 'tasutud_maksud_2020_iv_kvartal_eng.csv', 'tasutud_maksud_2021_i_kvartal_eng.csv', 'tasutud_maksud_2021_ii_kvartal_eng.csv', 'tasutud_maksud_2021_iii_kvartal_eng.csv', 'tasutud_maksud_2021_iv_kvartal_eng.csv', 'tasutud_maksud_2022_i_kvartal_eng.csv', 'tasutud_maksud_2022_ii_kvartal_eng.csv', 'tasutud_maksud_2022_iii_kvartal_eng.csv', 'tasutud_maksud_2022_iv_kvartal_eng.csv', 'tasutud_maksud_2023_i_kvartal_eng.csv', 'tasutud_maksud_2023_ii_kvartal_eng.csv', 'tasutud_maksud_2023_iii_kvartal_eng.csv', 'tasutud_maksud_2023_iv_kvartal_eng.csv', 'tasutud_maksud_2024_i_kvartal_eng.csv', 'tasutud_maksud_2024_ii_kvartal_eng.csv', 'tasutud_maksud_2024_iii_kvartal_eng.csv']\n",
      "Detected encoding: UTF-8-SIG\n",
      "Detecting encoding for ['tasutud_maksud_2020_i_kvartal_eng.csv', 'tasutud_maksud_2020_ii_kvartal_eng.csv', 'tasutud_maksud_2020_iii_kvartal_eng.csv', 'tasutud_maksud_2020_iv_kvartal_eng.csv', 'tasutud_maksud_2021_i_kvartal_eng.csv', 'tasutud_maksud_2021_ii_kvartal_eng.csv', 'tasutud_maksud_2021_iii_kvartal_eng.csv', 'tasutud_maksud_2021_iv_kvartal_eng.csv', 'tasutud_maksud_2022_i_kvartal_eng.csv', 'tasutud_maksud_2022_ii_kvartal_eng.csv', 'tasutud_maksud_2022_iii_kvartal_eng.csv', 'tasutud_maksud_2022_iv_kvartal_eng.csv', 'tasutud_maksud_2023_i_kvartal_eng.csv', 'tasutud_maksud_2023_ii_kvartal_eng.csv', 'tasutud_maksud_2023_iii_kvartal_eng.csv', 'tasutud_maksud_2023_iv_kvartal_eng.csv', 'tasutud_maksud_2024_i_kvartal_eng.csv', 'tasutud_maksud_2024_ii_kvartal_eng.csv', 'tasutud_maksud_2024_iii_kvartal_eng.csv']\n",
      "Detected encoding: MacRoman\n",
      "Detecting encoding for ['tasutud_maksud_2020_i_kvartal_eng.csv', 'tasutud_maksud_2020_ii_kvartal_eng.csv', 'tasutud_maksud_2020_iii_kvartal_eng.csv', 'tasutud_maksud_2020_iv_kvartal_eng.csv', 'tasutud_maksud_2021_i_kvartal_eng.csv', 'tasutud_maksud_2021_ii_kvartal_eng.csv', 'tasutud_maksud_2021_iii_kvartal_eng.csv', 'tasutud_maksud_2021_iv_kvartal_eng.csv', 'tasutud_maksud_2022_i_kvartal_eng.csv', 'tasutud_maksud_2022_ii_kvartal_eng.csv', 'tasutud_maksud_2022_iii_kvartal_eng.csv', 'tasutud_maksud_2022_iv_kvartal_eng.csv', 'tasutud_maksud_2023_i_kvartal_eng.csv', 'tasutud_maksud_2023_ii_kvartal_eng.csv', 'tasutud_maksud_2023_iii_kvartal_eng.csv', 'tasutud_maksud_2023_iv_kvartal_eng.csv', 'tasutud_maksud_2024_i_kvartal_eng.csv', 'tasutud_maksud_2024_ii_kvartal_eng.csv', 'tasutud_maksud_2024_iii_kvartal_eng.csv']\n",
      "Detected encoding: UTF-8-SIG\n",
      "Detecting encoding for ['tasutud_maksud_2020_i_kvartal_eng.csv', 'tasutud_maksud_2020_ii_kvartal_eng.csv', 'tasutud_maksud_2020_iii_kvartal_eng.csv', 'tasutud_maksud_2020_iv_kvartal_eng.csv', 'tasutud_maksud_2021_i_kvartal_eng.csv', 'tasutud_maksud_2021_ii_kvartal_eng.csv', 'tasutud_maksud_2021_iii_kvartal_eng.csv', 'tasutud_maksud_2021_iv_kvartal_eng.csv', 'tasutud_maksud_2022_i_kvartal_eng.csv', 'tasutud_maksud_2022_ii_kvartal_eng.csv', 'tasutud_maksud_2022_iii_kvartal_eng.csv', 'tasutud_maksud_2022_iv_kvartal_eng.csv', 'tasutud_maksud_2023_i_kvartal_eng.csv', 'tasutud_maksud_2023_ii_kvartal_eng.csv', 'tasutud_maksud_2023_iii_kvartal_eng.csv', 'tasutud_maksud_2023_iv_kvartal_eng.csv', 'tasutud_maksud_2024_i_kvartal_eng.csv', 'tasutud_maksud_2024_ii_kvartal_eng.csv', 'tasutud_maksud_2024_iii_kvartal_eng.csv']\n",
      "Detected encoding: UTF-8-SIG\n",
      "Detecting encoding for ['tasutud_maksud_2020_i_kvartal_eng.csv', 'tasutud_maksud_2020_ii_kvartal_eng.csv', 'tasutud_maksud_2020_iii_kvartal_eng.csv', 'tasutud_maksud_2020_iv_kvartal_eng.csv', 'tasutud_maksud_2021_i_kvartal_eng.csv', 'tasutud_maksud_2021_ii_kvartal_eng.csv', 'tasutud_maksud_2021_iii_kvartal_eng.csv', 'tasutud_maksud_2021_iv_kvartal_eng.csv', 'tasutud_maksud_2022_i_kvartal_eng.csv', 'tasutud_maksud_2022_ii_kvartal_eng.csv', 'tasutud_maksud_2022_iii_kvartal_eng.csv', 'tasutud_maksud_2022_iv_kvartal_eng.csv', 'tasutud_maksud_2023_i_kvartal_eng.csv', 'tasutud_maksud_2023_ii_kvartal_eng.csv', 'tasutud_maksud_2023_iii_kvartal_eng.csv', 'tasutud_maksud_2023_iv_kvartal_eng.csv', 'tasutud_maksud_2024_i_kvartal_eng.csv', 'tasutud_maksud_2024_ii_kvartal_eng.csv', 'tasutud_maksud_2024_iii_kvartal_eng.csv']\n",
      "Detected encoding: UTF-8-SIG\n"
     ]
    }
   ],
   "execution_count": 35
  },
  {
   "cell_type": "code",
   "metadata": {
    "colab": {
     "base_uri": "https://localhost:8080/",
     "height": 327
    },
    "executionInfo": {
     "elapsed": 1947,
     "status": "ok",
     "timestamp": 1733730468298,
     "user": {
      "displayName": "Andres Rõõm",
      "userId": "11581507521874958776"
     },
     "user_tz": -120
    },
    "id": "-GjKlL8uWjj7",
    "outputId": "916d9ef4-f0c7-48a1-b631-049ecc850691",
    "ExecuteTime": {
     "end_time": "2024-12-09T09:14:24.928932Z",
     "start_time": "2024-12-09T09:14:24.560387Z"
    }
   },
   "source": [
    "# Reading data\n",
    "import pandas as pd\n",
    "\n",
    "file_params = {\n",
    "    'encoding': 'ISO-8859-1',\n",
    "    'sep': ';'\n",
    "}\n",
    "\n",
    "df_i_2020 = pd.read_csv(f\"{project_dir}/{i_quarter_2020}\", **file_params)\n",
    "df_i_2020.head()"
   ],
   "outputs": [
    {
     "data": {
      "text/plain": [
       "  Registry code                   Name                  Type  \\\n",
       "0      10000018         AMSERV AUTO AS               Company   \n",
       "1      10000024       EESTI RAAMAT, OÜ               Company   \n",
       "2      10000062            ALDO KOPPEL  Self-employed person   \n",
       "3      10000127     ARAVETE APTEEK, TÜ               Company   \n",
       "4      10000165  KIVIÕLI KAUBAHOOV, AS               Company   \n",
       "\n",
       "  Registered in national VAT register  \\\n",
       "0                                 yes   \n",
       "1                                 yes   \n",
       "2                                 yes   \n",
       "3                                 yes   \n",
       "4                                 yes   \n",
       "\n",
       "  Field of activity in EMTAK (Estonian Classification of Economic Activities), which is marked with an alphabetic code in the system of EMTAK  \\\n",
       "0  WHOLESALE AND RETAIL TRADE; REPAIR OF MOTOR VE...                                                                                            \n",
       "1                      INFORMATION AND COMMUNICATION                                                                                            \n",
       "2                  AGRICULTURE, FORESTRY AND FISHING                                                                                            \n",
       "3  WHOLESALE AND RETAIL TRADE; REPAIR OF MOTOR VE...                                                                                            \n",
       "4  WHOLESALE AND RETAIL TRADE; REPAIR OF MOTOR VE...                                                                                            \n",
       "\n",
       "                       County State taxes Labour taxes and payments  \\\n",
       "0           Harju ( Tallinn )  635 586,56                669 944,03   \n",
       "1           Harju ( Tallinn )   22 847,67                 14 375,33   \n",
       "2  Ida-Viru ( Lüganuse vald )         NaN                       NaN   \n",
       "3        Järva ( Järva vald )    8 717,01                  4 503,35   \n",
       "4  Ida-Viru ( Lüganuse vald )   90 795,72                 57 953,73   \n",
       "\n",
       "     Turnover  Number of employees  \n",
       "0         NaN                208.0  \n",
       "1  129 993,24                 10.0  \n",
       "2      185,00                  NaN  \n",
       "3  116 415,20                  2.0  \n",
       "4  842 647,07                 45.0  "
      ],
      "text/html": [
       "<div>\n",
       "<style scoped>\n",
       "    .dataframe tbody tr th:only-of-type {\n",
       "        vertical-align: middle;\n",
       "    }\n",
       "\n",
       "    .dataframe tbody tr th {\n",
       "        vertical-align: top;\n",
       "    }\n",
       "\n",
       "    .dataframe thead th {\n",
       "        text-align: right;\n",
       "    }\n",
       "</style>\n",
       "<table border=\"1\" class=\"dataframe\">\n",
       "  <thead>\n",
       "    <tr style=\"text-align: right;\">\n",
       "      <th></th>\n",
       "      <th>Registry code</th>\n",
       "      <th>Name</th>\n",
       "      <th>Type</th>\n",
       "      <th>Registered in national VAT register</th>\n",
       "      <th>Field of activity in EMTAK (Estonian Classification of Economic Activities), which is marked with an alphabetic code in the system of EMTAK</th>\n",
       "      <th>County</th>\n",
       "      <th>State taxes</th>\n",
       "      <th>Labour taxes and payments</th>\n",
       "      <th>Turnover</th>\n",
       "      <th>Number of employees</th>\n",
       "    </tr>\n",
       "  </thead>\n",
       "  <tbody>\n",
       "    <tr>\n",
       "      <th>0</th>\n",
       "      <td>10000018</td>\n",
       "      <td>AMSERV AUTO AS</td>\n",
       "      <td>Company</td>\n",
       "      <td>yes</td>\n",
       "      <td>WHOLESALE AND RETAIL TRADE; REPAIR OF MOTOR VE...</td>\n",
       "      <td>Harju ( Tallinn )</td>\n",
       "      <td>635 586,56</td>\n",
       "      <td>669 944,03</td>\n",
       "      <td>NaN</td>\n",
       "      <td>208.0</td>\n",
       "    </tr>\n",
       "    <tr>\n",
       "      <th>1</th>\n",
       "      <td>10000024</td>\n",
       "      <td>EESTI RAAMAT, OÜ</td>\n",
       "      <td>Company</td>\n",
       "      <td>yes</td>\n",
       "      <td>INFORMATION AND COMMUNICATION</td>\n",
       "      <td>Harju ( Tallinn )</td>\n",
       "      <td>22 847,67</td>\n",
       "      <td>14 375,33</td>\n",
       "      <td>129 993,24</td>\n",
       "      <td>10.0</td>\n",
       "    </tr>\n",
       "    <tr>\n",
       "      <th>2</th>\n",
       "      <td>10000062</td>\n",
       "      <td>ALDO KOPPEL</td>\n",
       "      <td>Self-employed person</td>\n",
       "      <td>yes</td>\n",
       "      <td>AGRICULTURE, FORESTRY AND FISHING</td>\n",
       "      <td>Ida-Viru ( Lüganuse vald )</td>\n",
       "      <td>NaN</td>\n",
       "      <td>NaN</td>\n",
       "      <td>185,00</td>\n",
       "      <td>NaN</td>\n",
       "    </tr>\n",
       "    <tr>\n",
       "      <th>3</th>\n",
       "      <td>10000127</td>\n",
       "      <td>ARAVETE APTEEK, TÜ</td>\n",
       "      <td>Company</td>\n",
       "      <td>yes</td>\n",
       "      <td>WHOLESALE AND RETAIL TRADE; REPAIR OF MOTOR VE...</td>\n",
       "      <td>Järva ( Järva vald )</td>\n",
       "      <td>8 717,01</td>\n",
       "      <td>4 503,35</td>\n",
       "      <td>116 415,20</td>\n",
       "      <td>2.0</td>\n",
       "    </tr>\n",
       "    <tr>\n",
       "      <th>4</th>\n",
       "      <td>10000165</td>\n",
       "      <td>KIVIÕLI KAUBAHOOV, AS</td>\n",
       "      <td>Company</td>\n",
       "      <td>yes</td>\n",
       "      <td>WHOLESALE AND RETAIL TRADE; REPAIR OF MOTOR VE...</td>\n",
       "      <td>Ida-Viru ( Lüganuse vald )</td>\n",
       "      <td>90 795,72</td>\n",
       "      <td>57 953,73</td>\n",
       "      <td>842 647,07</td>\n",
       "      <td>45.0</td>\n",
       "    </tr>\n",
       "  </tbody>\n",
       "</table>\n",
       "</div>"
      ]
     },
     "execution_count": 36,
     "metadata": {},
     "output_type": "execute_result"
    }
   ],
   "execution_count": 36
  },
  {
   "cell_type": "code",
   "metadata": {
    "colab": {
     "base_uri": "https://localhost:8080/"
    },
    "executionInfo": {
     "elapsed": 19,
     "status": "ok",
     "timestamp": 1733730468298,
     "user": {
      "displayName": "Andres Rõõm",
      "userId": "11581507521874958776"
     },
     "user_tz": -120
    },
    "id": "0h0UG9jiWtRT",
    "outputId": "a39260d3-a7c9-494b-ab5c-a596acff0ea3",
    "ExecuteTime": {
     "end_time": "2024-12-09T09:14:24.981835Z",
     "start_time": "2024-12-09T09:14:24.930502Z"
    }
   },
   "source": [
    "df_i_2020.info()"
   ],
   "outputs": [
    {
     "name": "stdout",
     "output_type": "stream",
     "text": [
      "<class 'pandas.core.frame.DataFrame'>\n",
      "RangeIndex: 142890 entries, 0 to 142889\n",
      "Data columns (total 10 columns):\n",
      " #   Column                                                                                                                                       Non-Null Count   Dtype  \n",
      "---  ------                                                                                                                                       --------------   -----  \n",
      " 0   Registry code                                                                                                                                142890 non-null  object \n",
      " 1   Name                                                                                                                                         142890 non-null  object \n",
      " 2   Type                                                                                                                                         142890 non-null  object \n",
      " 3   Registered in national VAT register                                                                                                          142890 non-null  object \n",
      " 4   Field of activity in EMTAK (Estonian Classification of Economic Activities), which is marked with an alphabetic code in the system of EMTAK  139039 non-null  object \n",
      " 5   County                                                                                                                                       132256 non-null  object \n",
      " 6   State taxes                                                                                                                                  115507 non-null  object \n",
      " 7   Labour taxes and payments                                                                                                                    115507 non-null  object \n",
      " 8   Turnover                                                                                                                                     96024 non-null   object \n",
      " 9   Number of employees                                                                                                                          93871 non-null   float64\n",
      "dtypes: float64(1), object(9)\n",
      "memory usage: 10.9+ MB\n"
     ]
    }
   ],
   "execution_count": 37
  },
  {
   "cell_type": "code",
   "metadata": {
    "colab": {
     "base_uri": "https://localhost:8080/",
     "height": 335
    },
    "executionInfo": {
     "elapsed": 17,
     "status": "ok",
     "timestamp": 1733730468298,
     "user": {
      "displayName": "Andres Rõõm",
      "userId": "11581507521874958776"
     },
     "user_tz": -120
    },
    "id": "MvFNYgk9sovV",
    "outputId": "bb7c0ccb-46f5-4a9a-d406-103e6fdee379",
    "ExecuteTime": {
     "end_time": "2024-12-09T09:14:24.997684Z",
     "start_time": "2024-12-09T09:14:24.981835Z"
    }
   },
   "source": [
    "# Different entity types\n",
    "df_i_2020['Type'].value_counts()"
   ],
   "outputs": [
    {
     "data": {
      "text/plain": [
       "Type\n",
       "Company                                          119920\n",
       "Non-profit association                            12375\n",
       "Self-employed person                               4148\n",
       "Non-resident                                       4047\n",
       "Government or state authority                      1925\n",
       "Foundation                                          473\n",
       "International organisation located in Estonia         2\n",
       "Name: count, dtype: int64"
      ]
     },
     "execution_count": 38,
     "metadata": {},
     "output_type": "execute_result"
    }
   ],
   "execution_count": 38
  },
  {
   "cell_type": "code",
   "metadata": {
    "colab": {
     "base_uri": "https://localhost:8080/",
     "height": 508
    },
    "executionInfo": {
     "elapsed": 16,
     "status": "ok",
     "timestamp": 1733730468298,
     "user": {
      "displayName": "Andres Rõõm",
      "userId": "11581507521874958776"
     },
     "user_tz": -120
    },
    "id": "BDcFAHlBtHK-",
    "outputId": "ed8395f3-4550-4f54-97a2-a1c06b6972bf",
    "ExecuteTime": {
     "end_time": "2024-12-09T09:14:25.077022Z",
     "start_time": "2024-12-09T09:14:25.000297Z"
    }
   },
   "source": [
    "# Example of different types of legal entities in Estonia\n",
    "df_i_2020.groupby('Type').first()"
   ],
   "outputs": [
    {
     "data": {
      "text/plain": [
       "                                              Registry code  \\\n",
       "Type                                                          \n",
       "Company                                            10000018   \n",
       "Foundation                                         90000050   \n",
       "Government or state authority                      70000042   \n",
       "International organisation located in Estonia      98000012   \n",
       "Non-profit association                             80000037   \n",
       "Non-resident                                       60000066   \n",
       "Self-employed person                               10000062   \n",
       "\n",
       "                                                                                            Name  \\\n",
       "Type                                                                                               \n",
       "Company                                                                           AMSERV AUTO AS   \n",
       "Foundation                                     ESTONIAN-REVELIA ACADEMIC FUND'I SIHTASUTUS EE...   \n",
       "Government or state authority                                      PÕLLUMAJANDUSUURINGUTE KESKUS   \n",
       "International organisation located in Estonia                                BALTI KAITSEKOLLEDÞ   \n",
       "Non-profit association                         EESTI SUURPEREDE ABISTAMISE SELTS (LIKVIDEERIM...   \n",
       "Non-resident                                                                         LEDVANCE OY   \n",
       "Self-employed person                                                                 ALDO KOPPEL   \n",
       "\n",
       "                                              Registered in national VAT register  \\\n",
       "Type                                                                                \n",
       "Company                                                                       yes   \n",
       "Foundation                                                                     no   \n",
       "Government or state authority                                                 yes   \n",
       "International organisation located in Estonia                                  no   \n",
       "Non-profit association                                                         no   \n",
       "Non-resident                                                                  yes   \n",
       "Self-employed person                                                          yes   \n",
       "\n",
       "                                              Field of activity in EMTAK (Estonian Classification of Economic Activities), which is marked with an alphabetic code in the system of EMTAK  \\\n",
       "Type                                                                                                                                                                                        \n",
       "Company                                        WHOLESALE AND RETAIL TRADE; REPAIR OF MOTOR VE...                                                                                            \n",
       "Foundation                                                              OTHER SERVICE ACTIVITIES                                                                                            \n",
       "Government or state authority                  PROFESSIONAL, SCIENTIFIC AND TECHNICAL ACTIVITIES                                                                                            \n",
       "International organisation located in Estonia                                          EDUCATION                                                                                            \n",
       "Non-profit association                                                  OTHER SERVICE ACTIVITIES                                                                                            \n",
       "Non-resident                                   WHOLESALE AND RETAIL TRADE; REPAIR OF MOTOR VE...                                                                                            \n",
       "Self-employed person                                           AGRICULTURE, FORESTRY AND FISHING                                                                                            \n",
       "\n",
       "                                                                   County  \\\n",
       "Type                                                                        \n",
       "Company                                                 Harju ( Tallinn )   \n",
       "Foundation                                              Harju ( Tallinn )   \n",
       "Government or state authority                         Harju ( Saku vald )   \n",
       "International organisation located in Estonia        Tartu ( Tartu linn )   \n",
       "Non-profit association                                  Harju ( Tallinn )   \n",
       "Non-resident                                            Harju ( Tallinn )   \n",
       "Self-employed person                           Ida-Viru ( Lüganuse vald )   \n",
       "\n",
       "                                              State taxes  \\\n",
       "Type                                                        \n",
       "Company                                        635 586,56   \n",
       "Foundation                                         198,75   \n",
       "Government or state authority                    1 073,40   \n",
       "International organisation located in Estonia  187 846,92   \n",
       "Non-profit association                             307,41   \n",
       "Non-resident                                   186 973,21   \n",
       "Self-employed person                             1 308,94   \n",
       "\n",
       "                                              Labour taxes and payments  \\\n",
       "Type                                                                      \n",
       "Company                                                      669 944,03   \n",
       "Foundation                                                       198,75   \n",
       "Government or state authority                                      0,00   \n",
       "International organisation located in Estonia                197 796,97   \n",
       "Non-profit association                                           321,42   \n",
       "Non-resident                                                  13 640,58   \n",
       "Self-employed person                                             691,44   \n",
       "\n",
       "                                                   Turnover  \\\n",
       "Type                                                          \n",
       "Company                                          129 993,24   \n",
       "Foundation                                        23 548,70   \n",
       "Government or state authority                        843,12   \n",
       "International organisation located in Estonia          None   \n",
       "Non-profit association                            42 395,00   \n",
       "Non-resident                                   1 588 190,12   \n",
       "Self-employed person                                 185,00   \n",
       "\n",
       "                                               Number of employees  \n",
       "Type                                                                \n",
       "Company                                                      208.0  \n",
       "Foundation                                                     1.0  \n",
       "Government or state authority                                167.0  \n",
       "International organisation located in Estonia                 38.0  \n",
       "Non-profit association                                         1.0  \n",
       "Non-resident                                                   2.0  \n",
       "Self-employed person                                           1.0  "
      ],
      "text/html": [
       "<div>\n",
       "<style scoped>\n",
       "    .dataframe tbody tr th:only-of-type {\n",
       "        vertical-align: middle;\n",
       "    }\n",
       "\n",
       "    .dataframe tbody tr th {\n",
       "        vertical-align: top;\n",
       "    }\n",
       "\n",
       "    .dataframe thead th {\n",
       "        text-align: right;\n",
       "    }\n",
       "</style>\n",
       "<table border=\"1\" class=\"dataframe\">\n",
       "  <thead>\n",
       "    <tr style=\"text-align: right;\">\n",
       "      <th></th>\n",
       "      <th>Registry code</th>\n",
       "      <th>Name</th>\n",
       "      <th>Registered in national VAT register</th>\n",
       "      <th>Field of activity in EMTAK (Estonian Classification of Economic Activities), which is marked with an alphabetic code in the system of EMTAK</th>\n",
       "      <th>County</th>\n",
       "      <th>State taxes</th>\n",
       "      <th>Labour taxes and payments</th>\n",
       "      <th>Turnover</th>\n",
       "      <th>Number of employees</th>\n",
       "    </tr>\n",
       "    <tr>\n",
       "      <th>Type</th>\n",
       "      <th></th>\n",
       "      <th></th>\n",
       "      <th></th>\n",
       "      <th></th>\n",
       "      <th></th>\n",
       "      <th></th>\n",
       "      <th></th>\n",
       "      <th></th>\n",
       "      <th></th>\n",
       "    </tr>\n",
       "  </thead>\n",
       "  <tbody>\n",
       "    <tr>\n",
       "      <th>Company</th>\n",
       "      <td>10000018</td>\n",
       "      <td>AMSERV AUTO AS</td>\n",
       "      <td>yes</td>\n",
       "      <td>WHOLESALE AND RETAIL TRADE; REPAIR OF MOTOR VE...</td>\n",
       "      <td>Harju ( Tallinn )</td>\n",
       "      <td>635 586,56</td>\n",
       "      <td>669 944,03</td>\n",
       "      <td>129 993,24</td>\n",
       "      <td>208.0</td>\n",
       "    </tr>\n",
       "    <tr>\n",
       "      <th>Foundation</th>\n",
       "      <td>90000050</td>\n",
       "      <td>ESTONIAN-REVELIA ACADEMIC FUND'I SIHTASUTUS EE...</td>\n",
       "      <td>no</td>\n",
       "      <td>OTHER SERVICE ACTIVITIES</td>\n",
       "      <td>Harju ( Tallinn )</td>\n",
       "      <td>198,75</td>\n",
       "      <td>198,75</td>\n",
       "      <td>23 548,70</td>\n",
       "      <td>1.0</td>\n",
       "    </tr>\n",
       "    <tr>\n",
       "      <th>Government or state authority</th>\n",
       "      <td>70000042</td>\n",
       "      <td>PÕLLUMAJANDUSUURINGUTE KESKUS</td>\n",
       "      <td>yes</td>\n",
       "      <td>PROFESSIONAL, SCIENTIFIC AND TECHNICAL ACTIVITIES</td>\n",
       "      <td>Harju ( Saku vald )</td>\n",
       "      <td>1 073,40</td>\n",
       "      <td>0,00</td>\n",
       "      <td>843,12</td>\n",
       "      <td>167.0</td>\n",
       "    </tr>\n",
       "    <tr>\n",
       "      <th>International organisation located in Estonia</th>\n",
       "      <td>98000012</td>\n",
       "      <td>BALTI KAITSEKOLLEDÞ</td>\n",
       "      <td>no</td>\n",
       "      <td>EDUCATION</td>\n",
       "      <td>Tartu ( Tartu linn )</td>\n",
       "      <td>187 846,92</td>\n",
       "      <td>197 796,97</td>\n",
       "      <td>None</td>\n",
       "      <td>38.0</td>\n",
       "    </tr>\n",
       "    <tr>\n",
       "      <th>Non-profit association</th>\n",
       "      <td>80000037</td>\n",
       "      <td>EESTI SUURPEREDE ABISTAMISE SELTS (LIKVIDEERIM...</td>\n",
       "      <td>no</td>\n",
       "      <td>OTHER SERVICE ACTIVITIES</td>\n",
       "      <td>Harju ( Tallinn )</td>\n",
       "      <td>307,41</td>\n",
       "      <td>321,42</td>\n",
       "      <td>42 395,00</td>\n",
       "      <td>1.0</td>\n",
       "    </tr>\n",
       "    <tr>\n",
       "      <th>Non-resident</th>\n",
       "      <td>60000066</td>\n",
       "      <td>LEDVANCE OY</td>\n",
       "      <td>yes</td>\n",
       "      <td>WHOLESALE AND RETAIL TRADE; REPAIR OF MOTOR VE...</td>\n",
       "      <td>Harju ( Tallinn )</td>\n",
       "      <td>186 973,21</td>\n",
       "      <td>13 640,58</td>\n",
       "      <td>1 588 190,12</td>\n",
       "      <td>2.0</td>\n",
       "    </tr>\n",
       "    <tr>\n",
       "      <th>Self-employed person</th>\n",
       "      <td>10000062</td>\n",
       "      <td>ALDO KOPPEL</td>\n",
       "      <td>yes</td>\n",
       "      <td>AGRICULTURE, FORESTRY AND FISHING</td>\n",
       "      <td>Ida-Viru ( Lüganuse vald )</td>\n",
       "      <td>1 308,94</td>\n",
       "      <td>691,44</td>\n",
       "      <td>185,00</td>\n",
       "      <td>1.0</td>\n",
       "    </tr>\n",
       "  </tbody>\n",
       "</table>\n",
       "</div>"
      ]
     },
     "execution_count": 39,
     "metadata": {},
     "output_type": "execute_result"
    }
   ],
   "execution_count": 39
  },
  {
   "cell_type": "code",
   "metadata": {
    "colab": {
     "base_uri": "https://localhost:8080/",
     "height": 216
    },
    "executionInfo": {
     "elapsed": 15,
     "status": "ok",
     "timestamp": 1733730468298,
     "user": {
      "displayName": "Andres Rõõm",
      "userId": "11581507521874958776"
     },
     "user_tz": -120
    },
    "id": "-ShILRxtzmbh",
    "outputId": "9c3b7335-db63-4cb0-9982-6f2b208ff2ba",
    "ExecuteTime": {
     "end_time": "2024-12-09T09:14:25.096859Z",
     "start_time": "2024-12-09T09:14:25.077022Z"
    }
   },
   "source": [
    "# Some outliers that don't really fit our purposes\n",
    "df_i_2020[df_i_2020['Type'] == 'International organisation located in Estonia']"
   ],
   "outputs": [
    {
     "data": {
      "text/plain": [
       "       Registry code                                         Name  \\\n",
       "142766      98000012                          BALTI KAITSEKOLLEDÞ   \n",
       "142767      98000026  KOOPERATIIVNE KÜBERKAITSE KOMPETENTSIKESKUS   \n",
       "\n",
       "                                                 Type  \\\n",
       "142766  International organisation located in Estonia   \n",
       "142767  International organisation located in Estonia   \n",
       "\n",
       "       Registered in national VAT register  \\\n",
       "142766                                  no   \n",
       "142767                                  no   \n",
       "\n",
       "       Field of activity in EMTAK (Estonian Classification of Economic Activities), which is marked with an alphabetic code in the system of EMTAK  \\\n",
       "142766                                          EDUCATION                                                                                            \n",
       "142767                                                NaN                                                                                            \n",
       "\n",
       "                      County State taxes Labour taxes and payments Turnover  \\\n",
       "142766  Tartu ( Tartu linn )  187 846,92                197 796,97      NaN   \n",
       "142767     Harju ( Tallinn )    2 012,78                  2 182,18      NaN   \n",
       "\n",
       "        Number of employees  \n",
       "142766                 38.0  \n",
       "142767                  NaN  "
      ],
      "text/html": [
       "<div>\n",
       "<style scoped>\n",
       "    .dataframe tbody tr th:only-of-type {\n",
       "        vertical-align: middle;\n",
       "    }\n",
       "\n",
       "    .dataframe tbody tr th {\n",
       "        vertical-align: top;\n",
       "    }\n",
       "\n",
       "    .dataframe thead th {\n",
       "        text-align: right;\n",
       "    }\n",
       "</style>\n",
       "<table border=\"1\" class=\"dataframe\">\n",
       "  <thead>\n",
       "    <tr style=\"text-align: right;\">\n",
       "      <th></th>\n",
       "      <th>Registry code</th>\n",
       "      <th>Name</th>\n",
       "      <th>Type</th>\n",
       "      <th>Registered in national VAT register</th>\n",
       "      <th>Field of activity in EMTAK (Estonian Classification of Economic Activities), which is marked with an alphabetic code in the system of EMTAK</th>\n",
       "      <th>County</th>\n",
       "      <th>State taxes</th>\n",
       "      <th>Labour taxes and payments</th>\n",
       "      <th>Turnover</th>\n",
       "      <th>Number of employees</th>\n",
       "    </tr>\n",
       "  </thead>\n",
       "  <tbody>\n",
       "    <tr>\n",
       "      <th>142766</th>\n",
       "      <td>98000012</td>\n",
       "      <td>BALTI KAITSEKOLLEDÞ</td>\n",
       "      <td>International organisation located in Estonia</td>\n",
       "      <td>no</td>\n",
       "      <td>EDUCATION</td>\n",
       "      <td>Tartu ( Tartu linn )</td>\n",
       "      <td>187 846,92</td>\n",
       "      <td>197 796,97</td>\n",
       "      <td>NaN</td>\n",
       "      <td>38.0</td>\n",
       "    </tr>\n",
       "    <tr>\n",
       "      <th>142767</th>\n",
       "      <td>98000026</td>\n",
       "      <td>KOOPERATIIVNE KÜBERKAITSE KOMPETENTSIKESKUS</td>\n",
       "      <td>International organisation located in Estonia</td>\n",
       "      <td>no</td>\n",
       "      <td>NaN</td>\n",
       "      <td>Harju ( Tallinn )</td>\n",
       "      <td>2 012,78</td>\n",
       "      <td>2 182,18</td>\n",
       "      <td>NaN</td>\n",
       "      <td>NaN</td>\n",
       "    </tr>\n",
       "  </tbody>\n",
       "</table>\n",
       "</div>"
      ]
     },
     "execution_count": 40,
     "metadata": {},
     "output_type": "execute_result"
    }
   ],
   "execution_count": 40
  },
  {
   "cell_type": "code",
   "metadata": {
    "colab": {
     "base_uri": "https://localhost:8080/",
     "height": 300
    },
    "executionInfo": {
     "elapsed": 14,
     "status": "ok",
     "timestamp": 1733730468298,
     "user": {
      "displayName": "Andres Rõõm",
      "userId": "11581507521874958776"
     },
     "user_tz": -120
    },
    "id": "HyEET5_Uz4Oq",
    "outputId": "7742d167-b9f4-484d-ee38-72866f867251",
    "ExecuteTime": {
     "end_time": "2024-12-09T09:14:25.131162Z",
     "start_time": "2024-12-09T09:14:25.096859Z"
    }
   },
   "source": [
    "# Employee count data overview for each type of legal entity\n",
    "df_i_2020.groupby('Type').agg(\n",
    "    min_employees=('Number of employees', 'min'),\n",
    "    max_employees=('Number of employees', 'max'),\n",
    "    #range_employees=('Number of employees', lambda x: x.max() - x.min()),\n",
    "    null_count=('Number of employees', lambda x: x.isnull().sum())\n",
    ")"
   ],
   "outputs": [
    {
     "data": {
      "text/plain": [
       "                                               min_employees  max_employees  \\\n",
       "Type                                                                          \n",
       "Company                                                  1.0         3738.0   \n",
       "Foundation                                               1.0         4537.0   \n",
       "Government or state authority                            1.0         4527.0   \n",
       "International organisation located in Estonia           38.0           38.0   \n",
       "Non-profit association                                   1.0          291.0   \n",
       "Non-resident                                             1.0          331.0   \n",
       "Self-employed person                                     1.0           18.0   \n",
       "\n",
       "                                               null_count  \n",
       "Type                                                       \n",
       "Company                                             40042  \n",
       "Foundation                                             53  \n",
       "Government or state authority                          12  \n",
       "International organisation located in Estonia           1  \n",
       "Non-profit association                               2680  \n",
       "Non-resident                                         3486  \n",
       "Self-employed person                                 2745  "
      ],
      "text/html": [
       "<div>\n",
       "<style scoped>\n",
       "    .dataframe tbody tr th:only-of-type {\n",
       "        vertical-align: middle;\n",
       "    }\n",
       "\n",
       "    .dataframe tbody tr th {\n",
       "        vertical-align: top;\n",
       "    }\n",
       "\n",
       "    .dataframe thead th {\n",
       "        text-align: right;\n",
       "    }\n",
       "</style>\n",
       "<table border=\"1\" class=\"dataframe\">\n",
       "  <thead>\n",
       "    <tr style=\"text-align: right;\">\n",
       "      <th></th>\n",
       "      <th>min_employees</th>\n",
       "      <th>max_employees</th>\n",
       "      <th>null_count</th>\n",
       "    </tr>\n",
       "    <tr>\n",
       "      <th>Type</th>\n",
       "      <th></th>\n",
       "      <th></th>\n",
       "      <th></th>\n",
       "    </tr>\n",
       "  </thead>\n",
       "  <tbody>\n",
       "    <tr>\n",
       "      <th>Company</th>\n",
       "      <td>1.0</td>\n",
       "      <td>3738.0</td>\n",
       "      <td>40042</td>\n",
       "    </tr>\n",
       "    <tr>\n",
       "      <th>Foundation</th>\n",
       "      <td>1.0</td>\n",
       "      <td>4537.0</td>\n",
       "      <td>53</td>\n",
       "    </tr>\n",
       "    <tr>\n",
       "      <th>Government or state authority</th>\n",
       "      <td>1.0</td>\n",
       "      <td>4527.0</td>\n",
       "      <td>12</td>\n",
       "    </tr>\n",
       "    <tr>\n",
       "      <th>International organisation located in Estonia</th>\n",
       "      <td>38.0</td>\n",
       "      <td>38.0</td>\n",
       "      <td>1</td>\n",
       "    </tr>\n",
       "    <tr>\n",
       "      <th>Non-profit association</th>\n",
       "      <td>1.0</td>\n",
       "      <td>291.0</td>\n",
       "      <td>2680</td>\n",
       "    </tr>\n",
       "    <tr>\n",
       "      <th>Non-resident</th>\n",
       "      <td>1.0</td>\n",
       "      <td>331.0</td>\n",
       "      <td>3486</td>\n",
       "    </tr>\n",
       "    <tr>\n",
       "      <th>Self-employed person</th>\n",
       "      <td>1.0</td>\n",
       "      <td>18.0</td>\n",
       "      <td>2745</td>\n",
       "    </tr>\n",
       "  </tbody>\n",
       "</table>\n",
       "</div>"
      ]
     },
     "execution_count": 41,
     "metadata": {},
     "output_type": "execute_result"
    }
   ],
   "execution_count": 41
  },
  {
   "cell_type": "code",
   "metadata": {
    "colab": {
     "base_uri": "https://localhost:8080/",
     "height": 648
    },
    "executionInfo": {
     "elapsed": 14,
     "status": "ok",
     "timestamp": 1733730468299,
     "user": {
      "displayName": "Andres Rõõm",
      "userId": "11581507521874958776"
     },
     "user_tz": -120
    },
    "id": "MPJiaXff0gIY",
    "outputId": "44cef67a-3cb7-437a-cbe1-7fb825c6ff73",
    "ExecuteTime": {
     "end_time": "2024-12-09T09:14:25.149929Z",
     "start_time": "2024-12-09T09:14:25.131162Z"
    }
   },
   "source": [
    "# Self-employed person legal entity type employee counts\n",
    "df_i_2020[df_i_2020['Type'] == 'Self-employed person'].value_counts('Number of employees')"
   ],
   "outputs": [
    {
     "data": {
      "text/plain": [
       "Number of employees\n",
       "1.0     895\n",
       "2.0     280\n",
       "3.0     104\n",
       "4.0      53\n",
       "5.0      20\n",
       "6.0      18\n",
       "8.0       8\n",
       "7.0       6\n",
       "11.0      5\n",
       "9.0       4\n",
       "13.0      3\n",
       "15.0      2\n",
       "10.0      1\n",
       "12.0      1\n",
       "16.0      1\n",
       "17.0      1\n",
       "18.0      1\n",
       "Name: count, dtype: int64"
      ]
     },
     "execution_count": 42,
     "metadata": {},
     "output_type": "execute_result"
    }
   ],
   "execution_count": 42
  },
  {
   "cell_type": "markdown",
   "metadata": {
    "id": "hg7B0p3IHbRz"
   },
   "source": [
    "### 1.2 Initial thoughts"
   ]
  },
  {
   "cell_type": "markdown",
   "metadata": {
    "id": "uB22JhZ8HnlP"
   },
   "source": [
    "1. Moving forward should bring in the [open company data](https://avaandmed.ariregister.rik.ee/en/downloading-open-data)\n",
    "2. Registry code can be used to identify companies even if they have changed name, maybe namechange is an indicator if company is gonna do well or not :D ?\n",
    "3. Should we exclude estonian `FIE` (Self-Employed Person) since that's not what we are looking for?\n",
    "4. Should have functions that give us parsed data, eg. We want to test our predictions on 3rd quarter 2024 so we read in data till the prev quarter?\n",
    "5. Should we normalize and adjust things for inflation?\n",
    "6. What more data can we include, eg. last company name change, median number of employees or sliding window employee change?\n",
    "7. What else intresting can we find, maybe court cases, maybe business licences eg. alcohol sales?\n"
   ]
  },
  {
   "cell_type": "markdown",
   "metadata": {
    "id": "i5rXkV2xHctO"
   },
   "source": [
    "### 1.3 Making our dataset\n"
   ]
  },
  {
   "cell_type": "code",
   "metadata": {
    "id": "D8qcgJGTS0pF",
    "ExecuteTime": {
     "end_time": "2024-12-09T09:18:51.956806Z",
     "start_time": "2024-12-09T09:18:51.938619Z"
    }
   },
   "source": [
    "import pandas as pd\n",
    "\n",
    "import chardet\n",
    "\n",
    "def get_file_encoding(file_name):\n",
    "  with open(f\"{project_dir}/{file_name}\", 'rb') as file:\n",
    "      raw_data = file.read(10000)  # Read the first 10,000 bytes\n",
    "      result = chardet.detect(raw_data)\n",
    "      encoding = result['encoding']\n",
    "  return encoding\n",
    "\n",
    "def file_name_for_quarter_year(quarter, year):\n",
    "  def quarter_to_string(quarter):\n",
    "    if quarter == 1:\n",
    "      return \"i\"\n",
    "    if quarter == 2:\n",
    "      return \"ii\"\n",
    "    if quarter == 3:\n",
    "      return \"iii\"\n",
    "    if quarter == 4:\n",
    "      return \"iv\"\n",
    "    raise ValueError(f\"Invalid quarter value: {quarter}\")\n",
    "\n",
    "  assert quarter in (1, 2, 3, 4)\n",
    "  assert year in range(2020, 2024 + 1), f\"Year must be between 2020 and 2024\"\n",
    "\n",
    "  return f\"tasutud_maksud_{year}_{quarter_to_string(quarter)}_kvartal_eng.csv\"\n",
    "\n",
    "def get_data_for_quarter_year(quarter, year):\n",
    "  file_name = file_name_for_quarter_year(quarter, year)\n",
    "\n",
    "  file_params = {\n",
    "    'encoding': get_file_encoding(file_name),\n",
    "    'sep': ';'\n",
    "  }\n",
    "  assert quarter in (1, 2, 3, 4)\n",
    "  assert year in range(2020, 2024 + 1), f\"Year must be between 2020 and 2024\"\n",
    "  if year == 2024:\n",
    "    assert quarter in (1, 2), f\"Quarter must be 1 or 2 for year 2024, since we dont have \\\n",
    "    next quarter labour taxes and payments for q3\"\n",
    "\n",
    "  df = pd.read_csv(f\"{project_dir}/{file_name}\", **file_params)\n",
    "  # We filter only the types of entities that have to provide needed info quarterly\n",
    "  types_to_keep = ['Company', 'Non-profit association', 'Government or state authority']\n",
    "  df = df[df['Type'].isin(types_to_keep)]\n",
    "\n",
    "  # Renaming for simplicity\n",
    "\n",
    "  df.rename(columns={\n",
    "      \"Number of employees\": \"Employees\"\n",
    "  }, inplace=True)\n",
    "\n",
    "  # We only want the following columns\n",
    "  df = df[[\"Registry code\", \"Name\", \"Type\", \"Turnover\", \"Employees\", \"Labour taxes and payments\"]]\n",
    "\n",
    "  # Add info field about data\n",
    "  df['Info'] = f\"Data for Q{quarter} {year}\"\n",
    "\n",
    "  # Adding next quarter labour taxes and payments\n",
    "  next_quarter, next_quarter_year = ((quarter + 1, year), (1, year + 1))[quarter == 4]\n",
    "  next_quarter_file_name = file_name_for_quarter_year(next_quarter, next_quarter_year)\n",
    "  next_quarter_file_params = {\n",
    "    'encoding': get_file_encoding(next_quarter_file_name),\n",
    "    'sep': ';'\n",
    "  }\n",
    "  next_quarter_df = pd.read_csv(f\"{project_dir}/{next_quarter_file_name}\", **next_quarter_file_params)\n",
    "  next_quarter_df.rename(columns={\n",
    "      \"Number of employees\": \"Employees\"\n",
    "  }, inplace=True)\n",
    "\n",
    "  df = pd.merge(df,\n",
    "                next_quarter_df[['Registry code', 'Employees', 'Labour taxes and payments']],\n",
    "                on='Registry code',\n",
    "                how='left',\n",
    "                suffixes=('', '_next_quarter')\n",
    "                )\n",
    "  return df\n",
    "\n",
    "general_data = None\n",
    "\n",
    "def include_general_data(quarterly_df):\n",
    "  global general_data\n",
    "  if general_data is None:\n",
    "    general_data_full_dir = f\"{project_dir}/{general_data_dir}\"\n",
    "    print(general_data_full_dir) # ids_projekt/general_data\n",
    "    \n",
    "    files = os.listdir(general_data_full_dir)\n",
    "    print(\"Files found:\", files)\n",
    "    [general_data_file] = files\n",
    "\n",
    "\n",
    "    general_data = pd.read_parquet(f\"{general_data_full_dir}/{general_data_file}\")\n",
    "    # registry_codes = list(quarterly_df['Registry code'].unique())\n",
    "    # return df_general_data[df_general_data['ariregistri_kood'].isin(registry_codes)]\n",
    "    general_data['Registry code'] = general_data['ariregistri_kood'].astype(str)\n",
    "\n",
    "  quarterly_df['Registry code'] = quarterly_df['Registry code'].astype(str)\n",
    "  df_all = pd.merge(quarterly_df, general_data, on='Registry code', how='left',\n",
    "                  suffixes=('', ' from genral data'))\n",
    "\n",
    "  df_all = df_all[df_all['yldandmed'].notna()]\n",
    "  return df_all\n",
    "\n",
    "\n",
    "#df = get_data_for_quarter_year(2, 2024)\n",
    "#df = include_general_data(df)\n",
    "df = None\n"
   ],
   "outputs": [],
   "execution_count": 52
  },
  {
   "cell_type": "code",
   "metadata": {
    "id": "QC1LluGXfXjv",
    "ExecuteTime": {
     "end_time": "2024-12-09T09:16:03.089376Z",
     "start_time": "2024-12-09T09:15:14.432631Z"
    }
   },
   "source": [
    "import numpy as np\n",
    "\n",
    "def get_esmaregistreerimise_kpv(yldandmed):\n",
    "  return yldandmed['esmaregistreerimise_kpv']\n",
    "get_ettevõtte_staatus = lambda x: x['staatus_tekstina']\n",
    "\n",
    "def get_ettevõtte_põhitegevusala(yldandmed):\n",
    "  try:\n",
    "    [pohitegevusala] = [item for item in yldandmed[\"teatatud_tegevusalad\"] if item['on_pohitegevusala']]\n",
    "    return pohitegevusala['emtak_kood']\n",
    "  except:\n",
    "    return None\n",
    "  return None\n",
    "\n",
    "\n",
    "def yldandmed_serializer(obj):\n",
    "    if isinstance(obj, np.ndarray):  # Convert ndarray to list\n",
    "        return obj.tolist()\n",
    "    raise TypeError(f\"Object of type {type(obj).__name__} is not JSON serializable\")\n",
    "\n",
    "def get_ettevõtte_põhikapital(yldandmed):\n",
    "  kapitalid = yldandmed['kapitalid']\n",
    "  if kapitalid == None:\n",
    "    return kapitalid\n",
    "  if len(kapitalid) == 1:\n",
    "    return kapitalid[0]['kapitali_suurus']\n",
    "  return None\n",
    "\n",
    "def finalize_data(data):\n",
    "  data_copy = data.copy()\n",
    "  data_copy[\"Asutamise kuupäev\"] = data[\"yldandmed\"].apply(get_esmaregistreerimise_kpv)\n",
    "  data_copy[\"Staatus\"] = data['yldandmed'].apply(get_ettevõtte_staatus)\n",
    "  data_copy[\"Põhitegevusala\"] = data['yldandmed'].apply(get_ettevõtte_põhitegevusala)\n",
    "  data_copy[\"Põhikapital\"] = data['yldandmed'].apply(get_ettevõtte_põhikapital)\n",
    "  return data_copy\n",
    "\n",
    "def reorder_columns(df):\n",
    "  ordered_columns = [\n",
    "      'Name',\n",
    "      'Registry code',\n",
    "      'Info',\n",
    "      'Type',\n",
    "      'Turnover',\n",
    "      'Employees',\n",
    "      'Asutamise kuupäev',\n",
    "      'Staatus',\n",
    "      'Põhitegevusala',\n",
    "      'Põhikapital',\n",
    "      'Labour taxes and payments',\n",
    "      'Employees_next_quarter',\n",
    "      'Labour taxes and payments_next_quarter']\n",
    "  return df[ordered_columns]\n",
    "df = None\n"
   ],
   "outputs": [
    {
     "name": "stdout",
     "output_type": "stream",
     "text": [
      "Collecting fastparquet\n",
      "  Downloading fastparquet-2024.11.0.tar.gz (467 kB)\n",
      "     ---------------------------------------- 0.0/467.2 kB ? eta -:--:--\n",
      "     - ----------------------------------- 20.5/467.2 kB 330.3 kB/s eta 0:00:02\n",
      "     ---- -------------------------------- 61.4/467.2 kB 825.8 kB/s eta 0:00:01\n",
      "     ----------------------------- -------- 368.6/467.2 kB 3.3 MB/s eta 0:00:01\n",
      "     -------------------------------------- 467.2/467.2 kB 3.3 MB/s eta 0:00:00\n",
      "  Installing build dependencies: started\n",
      "  Installing build dependencies: finished with status 'done'\n",
      "  Getting requirements to build wheel: started\n",
      "  Getting requirements to build wheel: finished with status 'done'\n",
      "  Preparing metadata (pyproject.toml): started\n",
      "  Preparing metadata (pyproject.toml): finished with status 'done'\n",
      "Requirement already satisfied: pandas>=1.5.0 in c:\\users\\kaspa\\miniconda3\\lib\\site-packages (from fastparquet) (2.2.2)\n",
      "Requirement already satisfied: numpy in c:\\users\\kaspa\\miniconda3\\lib\\site-packages (from fastparquet) (1.26.4)\n",
      "Collecting cramjam>=2.3 (from fastparquet)\n",
      "  Downloading cramjam-2.9.0-cp312-none-win_amd64.whl.metadata (5.0 kB)\n",
      "Collecting fsspec (from fastparquet)\n",
      "  Downloading fsspec-2024.10.0-py3-none-any.whl.metadata (11 kB)\n",
      "Requirement already satisfied: packaging in c:\\users\\kaspa\\miniconda3\\lib\\site-packages (from fastparquet) (23.1)\n",
      "Requirement already satisfied: python-dateutil>=2.8.2 in c:\\users\\kaspa\\miniconda3\\lib\\site-packages (from pandas>=1.5.0->fastparquet) (2.9.0.post0)\n",
      "Requirement already satisfied: pytz>=2020.1 in c:\\users\\kaspa\\miniconda3\\lib\\site-packages (from pandas>=1.5.0->fastparquet) (2024.1)\n",
      "Requirement already satisfied: tzdata>=2022.7 in c:\\users\\kaspa\\miniconda3\\lib\\site-packages (from pandas>=1.5.0->fastparquet) (2023.3)\n",
      "Requirement already satisfied: six>=1.5 in c:\\users\\kaspa\\miniconda3\\lib\\site-packages (from python-dateutil>=2.8.2->pandas>=1.5.0->fastparquet) (1.16.0)\n",
      "Downloading cramjam-2.9.0-cp312-none-win_amd64.whl (2.2 MB)\n",
      "   ---------------------------------------- 0.0/2.2 MB ? eta -:--:--\n",
      "   ------- -------------------------------- 0.4/2.2 MB 12.6 MB/s eta 0:00:01\n",
      "   ---------------- ----------------------- 0.9/2.2 MB 11.0 MB/s eta 0:00:01\n",
      "   -------------------------- ------------- 1.4/2.2 MB 13.2 MB/s eta 0:00:01\n",
      "   ------------------------------------- -- 2.0/2.2 MB 12.9 MB/s eta 0:00:01\n",
      "   ---------------------------------------- 2.2/2.2 MB 11.5 MB/s eta 0:00:00\n",
      "Downloading fsspec-2024.10.0-py3-none-any.whl (179 kB)\n",
      "   ---------------------------------------- 0.0/179.6 kB ? eta -:--:--\n",
      "   --------------------------------------- 179.6/179.6 kB 10.6 MB/s eta 0:00:00\n",
      "Building wheels for collected packages: fastparquet\n",
      "  Building wheel for fastparquet (pyproject.toml): started\n",
      "  Building wheel for fastparquet (pyproject.toml): finished with status 'done'\n",
      "  Created wheel for fastparquet: filename=fastparquet-2024.11.0-cp312-cp312-win_amd64.whl size=672559 sha256=97e11448c49669f6fa61033914d27673268db6ebc0412f6dcc3c3982467ade41\n",
      "  Stored in directory: c:\\users\\kaspa\\appdata\\local\\pip\\cache\\wheels\\10\\6d\\17\\0e26bf80f5639ab5e79745c7985af4e869cc8b99adc606fa40\n",
      "Successfully built fastparquet\n",
      "Installing collected packages: fsspec, cramjam, fastparquet\n",
      "Successfully installed cramjam-2.9.0 fastparquet-2024.11.0 fsspec-2024.10.0\n"
     ]
    }
   ],
   "execution_count": 47
  },
  {
   "cell_type": "code",
   "metadata": {
    "id": "Gf9YEBzAx_aA",
    "ExecuteTime": {
     "end_time": "2024-12-09T09:16:17.350386Z",
     "start_time": "2024-12-09T09:16:17.345035Z"
    }
   },
   "source": [
    "def get_compiled_data(quarter, year):\n",
    "  df = get_data_for_quarter_year(quarter, year)\n",
    "  df = include_general_data(df)\n",
    "  df = finalize_data(df)\n",
    "  df = reorder_columns(df)\n",
    "  return df"
   ],
   "outputs": [],
   "execution_count": 48
  },
  {
   "cell_type": "markdown",
   "metadata": {
    "id": "DaFLCftf93w5"
   },
   "source": [
    "## Preprocessing\n"
   ]
  },
  {
   "cell_type": "code",
   "metadata": {
    "id": "TZ5__Se08zte",
    "ExecuteTime": {
     "end_time": "2024-12-09T09:18:58.583394Z",
     "start_time": "2024-12-09T09:18:56.579506Z"
    }
   },
   "source": [
    "df_train = get_compiled_data(2, 2024)\n",
    "df_train.head()"
   ],
   "outputs": [
    {
     "name": "stdout",
     "output_type": "stream",
     "text": [
      "ids_projekt/general_data\n",
      "Files found: ['13_11_yldandmed.parquet']\n"
     ]
    },
    {
     "ename": "TypeError",
     "evalue": "int() argument must be a string, a bytes-like object or a real number, not 'NAType'",
     "output_type": "error",
     "traceback": [
      "\u001B[1;31m---------------------------------------------------------------------------\u001B[0m",
      "\u001B[1;31mTypeError\u001B[0m                                 Traceback (most recent call last)",
      "Cell \u001B[1;32mIn[53], line 1\u001B[0m\n\u001B[1;32m----> 1\u001B[0m df_train \u001B[38;5;241m=\u001B[39m get_compiled_data(\u001B[38;5;241m2\u001B[39m, \u001B[38;5;241m2024\u001B[39m)\n\u001B[0;32m      2\u001B[0m df_train\u001B[38;5;241m.\u001B[39mhead()\n",
      "Cell \u001B[1;32mIn[48], line 3\u001B[0m, in \u001B[0;36mget_compiled_data\u001B[1;34m(quarter, year)\u001B[0m\n\u001B[0;32m      1\u001B[0m \u001B[38;5;28;01mdef\u001B[39;00m \u001B[38;5;21mget_compiled_data\u001B[39m(quarter, year):\n\u001B[0;32m      2\u001B[0m   df \u001B[38;5;241m=\u001B[39m get_data_for_quarter_year(quarter, year)\n\u001B[1;32m----> 3\u001B[0m   df \u001B[38;5;241m=\u001B[39m include_general_data(df)\n\u001B[0;32m      4\u001B[0m   df \u001B[38;5;241m=\u001B[39m finalize_data(df)\n\u001B[0;32m      5\u001B[0m   df \u001B[38;5;241m=\u001B[39m reorder_columns(df)\n",
      "Cell \u001B[1;32mIn[52], line 92\u001B[0m, in \u001B[0;36minclude_general_data\u001B[1;34m(quarterly_df)\u001B[0m\n\u001B[0;32m     88\u001B[0m \u001B[38;5;28mprint\u001B[39m(\u001B[38;5;124m\"\u001B[39m\u001B[38;5;124mFiles found:\u001B[39m\u001B[38;5;124m\"\u001B[39m, files)\n\u001B[0;32m     89\u001B[0m [general_data_file] \u001B[38;5;241m=\u001B[39m files\n\u001B[1;32m---> 92\u001B[0m general_data \u001B[38;5;241m=\u001B[39m pd\u001B[38;5;241m.\u001B[39mread_parquet(\u001B[38;5;124mf\u001B[39m\u001B[38;5;124m\"\u001B[39m\u001B[38;5;132;01m{\u001B[39;00mgeneral_data_full_dir\u001B[38;5;132;01m}\u001B[39;00m\u001B[38;5;124m/\u001B[39m\u001B[38;5;132;01m{\u001B[39;00mgeneral_data_file\u001B[38;5;132;01m}\u001B[39;00m\u001B[38;5;124m\"\u001B[39m)\n\u001B[0;32m     93\u001B[0m \u001B[38;5;66;03m# registry_codes = list(quarterly_df['Registry code'].unique())\u001B[39;00m\n\u001B[0;32m     94\u001B[0m \u001B[38;5;66;03m# return df_general_data[df_general_data['ariregistri_kood'].isin(registry_codes)]\u001B[39;00m\n\u001B[0;32m     95\u001B[0m general_data[\u001B[38;5;124m'\u001B[39m\u001B[38;5;124mRegistry code\u001B[39m\u001B[38;5;124m'\u001B[39m] \u001B[38;5;241m=\u001B[39m general_data[\u001B[38;5;124m'\u001B[39m\u001B[38;5;124mariregistri_kood\u001B[39m\u001B[38;5;124m'\u001B[39m]\u001B[38;5;241m.\u001B[39mastype(\u001B[38;5;28mstr\u001B[39m)\n",
      "File \u001B[1;32m~\\miniconda3\\Lib\\site-packages\\pandas\\io\\parquet.py:667\u001B[0m, in \u001B[0;36mread_parquet\u001B[1;34m(path, engine, columns, storage_options, use_nullable_dtypes, dtype_backend, filesystem, filters, **kwargs)\u001B[0m\n\u001B[0;32m    664\u001B[0m     use_nullable_dtypes \u001B[38;5;241m=\u001B[39m \u001B[38;5;28;01mFalse\u001B[39;00m\n\u001B[0;32m    665\u001B[0m check_dtype_backend(dtype_backend)\n\u001B[1;32m--> 667\u001B[0m \u001B[38;5;28;01mreturn\u001B[39;00m impl\u001B[38;5;241m.\u001B[39mread(\n\u001B[0;32m    668\u001B[0m     path,\n\u001B[0;32m    669\u001B[0m     columns\u001B[38;5;241m=\u001B[39mcolumns,\n\u001B[0;32m    670\u001B[0m     filters\u001B[38;5;241m=\u001B[39mfilters,\n\u001B[0;32m    671\u001B[0m     storage_options\u001B[38;5;241m=\u001B[39mstorage_options,\n\u001B[0;32m    672\u001B[0m     use_nullable_dtypes\u001B[38;5;241m=\u001B[39muse_nullable_dtypes,\n\u001B[0;32m    673\u001B[0m     dtype_backend\u001B[38;5;241m=\u001B[39mdtype_backend,\n\u001B[0;32m    674\u001B[0m     filesystem\u001B[38;5;241m=\u001B[39mfilesystem,\n\u001B[0;32m    675\u001B[0m     \u001B[38;5;241m*\u001B[39m\u001B[38;5;241m*\u001B[39mkwargs,\n\u001B[0;32m    676\u001B[0m )\n",
      "File \u001B[1;32m~\\miniconda3\\Lib\\site-packages\\pandas\\io\\parquet.py:403\u001B[0m, in \u001B[0;36mFastParquetImpl.read\u001B[1;34m(self, path, columns, filters, storage_options, filesystem, **kwargs)\u001B[0m\n\u001B[0;32m    401\u001B[0m \u001B[38;5;28;01mtry\u001B[39;00m:\n\u001B[0;32m    402\u001B[0m     parquet_file \u001B[38;5;241m=\u001B[39m \u001B[38;5;28mself\u001B[39m\u001B[38;5;241m.\u001B[39mapi\u001B[38;5;241m.\u001B[39mParquetFile(path, \u001B[38;5;241m*\u001B[39m\u001B[38;5;241m*\u001B[39mparquet_kwargs)\n\u001B[1;32m--> 403\u001B[0m     \u001B[38;5;28;01mreturn\u001B[39;00m parquet_file\u001B[38;5;241m.\u001B[39mto_pandas(columns\u001B[38;5;241m=\u001B[39mcolumns, filters\u001B[38;5;241m=\u001B[39mfilters, \u001B[38;5;241m*\u001B[39m\u001B[38;5;241m*\u001B[39mkwargs)\n\u001B[0;32m    404\u001B[0m \u001B[38;5;28;01mfinally\u001B[39;00m:\n\u001B[0;32m    405\u001B[0m     \u001B[38;5;28;01mif\u001B[39;00m handles \u001B[38;5;129;01mis\u001B[39;00m \u001B[38;5;129;01mnot\u001B[39;00m \u001B[38;5;28;01mNone\u001B[39;00m:\n",
      "File \u001B[1;32m~\\miniconda3\\Lib\\site-packages\\fastparquet\\api.py:790\u001B[0m, in \u001B[0;36mParquetFile.to_pandas\u001B[1;34m(self, columns, categories, filters, index, row_filter, dtypes)\u001B[0m\n\u001B[0;32m    786\u001B[0m         \u001B[38;5;28;01mcontinue\u001B[39;00m\n\u001B[0;32m    787\u001B[0m     parts \u001B[38;5;241m=\u001B[39m {name: (v \u001B[38;5;28;01mif\u001B[39;00m name\u001B[38;5;241m.\u001B[39mendswith(\u001B[38;5;124m'\u001B[39m\u001B[38;5;124m-catdef\u001B[39m\u001B[38;5;124m'\u001B[39m)\n\u001B[0;32m    788\u001B[0m                     \u001B[38;5;28;01melse\u001B[39;00m v[start:start \u001B[38;5;241m+\u001B[39m thislen])\n\u001B[0;32m    789\u001B[0m              \u001B[38;5;28;01mfor\u001B[39;00m (name, v) \u001B[38;5;129;01min\u001B[39;00m views\u001B[38;5;241m.\u001B[39mitems()}\n\u001B[1;32m--> 790\u001B[0m     \u001B[38;5;28mself\u001B[39m\u001B[38;5;241m.\u001B[39mread_row_group_file(rg, columns, categories, index,\n\u001B[0;32m    791\u001B[0m                              assign\u001B[38;5;241m=\u001B[39mparts, partition_meta\u001B[38;5;241m=\u001B[39m\u001B[38;5;28mself\u001B[39m\u001B[38;5;241m.\u001B[39mpartition_meta,\n\u001B[0;32m    792\u001B[0m                              row_filter\u001B[38;5;241m=\u001B[39msel, infile\u001B[38;5;241m=\u001B[39minfile)\n\u001B[0;32m    793\u001B[0m     start \u001B[38;5;241m+\u001B[39m\u001B[38;5;241m=\u001B[39m thislen\n\u001B[0;32m    794\u001B[0m \u001B[38;5;28;01mreturn\u001B[39;00m df\n",
      "File \u001B[1;32m~\\miniconda3\\Lib\\site-packages\\fastparquet\\api.py:388\u001B[0m, in \u001B[0;36mParquetFile.read_row_group_file\u001B[1;34m(self, rg, columns, categories, index, assign, partition_meta, row_filter, infile)\u001B[0m\n\u001B[0;32m    385\u001B[0m     ret \u001B[38;5;241m=\u001B[39m \u001B[38;5;28;01mTrue\u001B[39;00m\n\u001B[0;32m    386\u001B[0m f \u001B[38;5;241m=\u001B[39m infile \u001B[38;5;129;01mor\u001B[39;00m \u001B[38;5;28mself\u001B[39m\u001B[38;5;241m.\u001B[39mopen(fn, mode\u001B[38;5;241m=\u001B[39m\u001B[38;5;124m'\u001B[39m\u001B[38;5;124mrb\u001B[39m\u001B[38;5;124m'\u001B[39m)\n\u001B[1;32m--> 388\u001B[0m core\u001B[38;5;241m.\u001B[39mread_row_group(\n\u001B[0;32m    389\u001B[0m     f, rg, columns, categories, \u001B[38;5;28mself\u001B[39m\u001B[38;5;241m.\u001B[39mschema, \u001B[38;5;28mself\u001B[39m\u001B[38;5;241m.\u001B[39mcats,\n\u001B[0;32m    390\u001B[0m     selfmade\u001B[38;5;241m=\u001B[39m\u001B[38;5;28mself\u001B[39m\u001B[38;5;241m.\u001B[39mselfmade, index\u001B[38;5;241m=\u001B[39mindex,\n\u001B[0;32m    391\u001B[0m     assign\u001B[38;5;241m=\u001B[39massign, scheme\u001B[38;5;241m=\u001B[39m\u001B[38;5;28mself\u001B[39m\u001B[38;5;241m.\u001B[39mfile_scheme, partition_meta\u001B[38;5;241m=\u001B[39mpartition_meta,\n\u001B[0;32m    392\u001B[0m     row_filter\u001B[38;5;241m=\u001B[39mrow_filter\n\u001B[0;32m    393\u001B[0m )\n\u001B[0;32m    394\u001B[0m \u001B[38;5;28;01mif\u001B[39;00m ret:\n\u001B[0;32m    395\u001B[0m     \u001B[38;5;28;01mreturn\u001B[39;00m df\n",
      "File \u001B[1;32m~\\miniconda3\\Lib\\site-packages\\fastparquet\\core.py:644\u001B[0m, in \u001B[0;36mread_row_group\u001B[1;34m(file, rg, columns, categories, schema_helper, cats, selfmade, index, assign, scheme, partition_meta, row_filter)\u001B[0m\n\u001B[0;32m    642\u001B[0m \u001B[38;5;28;01mif\u001B[39;00m assign \u001B[38;5;129;01mis\u001B[39;00m \u001B[38;5;28;01mNone\u001B[39;00m:\n\u001B[0;32m    643\u001B[0m     \u001B[38;5;28;01mraise\u001B[39;00m \u001B[38;5;167;01mRuntimeError\u001B[39;00m(\u001B[38;5;124m'\u001B[39m\u001B[38;5;124mGoing with pre-allocation!\u001B[39m\u001B[38;5;124m'\u001B[39m)\n\u001B[1;32m--> 644\u001B[0m read_row_group_arrays(file, rg, columns, categories, schema_helper,\n\u001B[0;32m    645\u001B[0m                       cats, selfmade, assign\u001B[38;5;241m=\u001B[39massign, row_filter\u001B[38;5;241m=\u001B[39mrow_filter)\n\u001B[0;32m    647\u001B[0m \u001B[38;5;28;01mfor\u001B[39;00m cat \u001B[38;5;129;01min\u001B[39;00m cats:\n\u001B[0;32m    648\u001B[0m     \u001B[38;5;28;01mif\u001B[39;00m cat \u001B[38;5;129;01mnot\u001B[39;00m \u001B[38;5;129;01min\u001B[39;00m assign:\n\u001B[0;32m    649\u001B[0m         \u001B[38;5;66;03m# do no need to have partition columns in output\u001B[39;00m\n",
      "File \u001B[1;32m~\\miniconda3\\Lib\\site-packages\\fastparquet\\core.py:615\u001B[0m, in \u001B[0;36mread_row_group_arrays\u001B[1;34m(file, rg, columns, categories, schema_helper, cats, selfmade, assign, row_filter)\u001B[0m\n\u001B[0;32m    612\u001B[0m     \u001B[38;5;28;01mcontinue\u001B[39;00m\n\u001B[0;32m    613\u001B[0m remains\u001B[38;5;241m.\u001B[39mdiscard(name)\n\u001B[1;32m--> 615\u001B[0m read_col(column, schema_helper, file, use_cat\u001B[38;5;241m=\u001B[39mname\u001B[38;5;241m+\u001B[39m\u001B[38;5;124m'\u001B[39m\u001B[38;5;124m-catdef\u001B[39m\u001B[38;5;124m'\u001B[39m \u001B[38;5;129;01min\u001B[39;00m out,\n\u001B[0;32m    616\u001B[0m          selfmade\u001B[38;5;241m=\u001B[39mselfmade, assign\u001B[38;5;241m=\u001B[39mout[name],\n\u001B[0;32m    617\u001B[0m          catdef\u001B[38;5;241m=\u001B[39mout\u001B[38;5;241m.\u001B[39mget(name\u001B[38;5;241m+\u001B[39m\u001B[38;5;124m'\u001B[39m\u001B[38;5;124m-catdef\u001B[39m\u001B[38;5;124m'\u001B[39m, \u001B[38;5;28;01mNone\u001B[39;00m),\n\u001B[0;32m    618\u001B[0m          row_filter\u001B[38;5;241m=\u001B[39mrow_filter)\n\u001B[0;32m    620\u001B[0m \u001B[38;5;28;01mif\u001B[39;00m _is_map_like(schema_helper, column):\n\u001B[0;32m    621\u001B[0m     \u001B[38;5;66;03m# TODO: could be done in fast loop in _assemble_objects?\u001B[39;00m\n\u001B[0;32m    622\u001B[0m     \u001B[38;5;28;01mif\u001B[39;00m name \u001B[38;5;129;01mnot\u001B[39;00m \u001B[38;5;129;01min\u001B[39;00m maps:\n",
      "File \u001B[1;32m~\\miniconda3\\Lib\\site-packages\\fastparquet\\core.py:561\u001B[0m, in \u001B[0;36mread_col\u001B[1;34m(column, schema_helper, infile, use_cat, selfmade, assign, catdef, row_filter)\u001B[0m\n\u001B[0;32m    559\u001B[0m     part \u001B[38;5;241m=\u001B[39m part\u001B[38;5;241m.\u001B[39m_data\n\u001B[0;32m    560\u001B[0m \u001B[38;5;28;01melif\u001B[39;00m part\u001B[38;5;241m.\u001B[39mdtype\u001B[38;5;241m.\u001B[39mkind \u001B[38;5;241m!=\u001B[39m \u001B[38;5;124m\"\u001B[39m\u001B[38;5;124mO\u001B[39m\u001B[38;5;124m\"\u001B[39m:\n\u001B[1;32m--> 561\u001B[0m     part[defi \u001B[38;5;241m!=\u001B[39m max_defi] \u001B[38;5;241m=\u001B[39m my_nan\n\u001B[0;32m    562\u001B[0m \u001B[38;5;28;01mif\u001B[39;00m d \u001B[38;5;129;01mand\u001B[39;00m \u001B[38;5;129;01mnot\u001B[39;00m use_cat:\n\u001B[0;32m    563\u001B[0m     part[defi \u001B[38;5;241m==\u001B[39m max_defi] \u001B[38;5;241m=\u001B[39m dic[val]\n",
      "\u001B[1;31mTypeError\u001B[0m: int() argument must be a string, a bytes-like object or a real number, not 'NAType'"
     ]
    }
   ],
   "execution_count": 53
  },
  {
   "cell_type": "code",
   "metadata": {
    "id": "pfOviPIw_zpf"
   },
   "source": [
    "df_train.info()"
   ],
   "outputs": [],
   "execution_count": null
  },
  {
   "cell_type": "code",
   "metadata": {
    "id": "96xgLo5SAA_Z"
   },
   "source": [
    "from datetime import datetime\n",
    "\n",
    "def preprocess(data, debug=0):\n",
    "  def drop_missing_rows(d):\n",
    "    return d.dropna(subset=['Employees', 'Labour taxes and payments', 'Employees_next_quarter', 'Labour taxes and payments_next_quarter'])\n",
    "  def numeric_string_to_float(value):\n",
    "    if type(value) == str:\n",
    "      value = value.replace(',', '.')\n",
    "      value = value.replace(\" \", \"\")\n",
    "      assert \" \" not in value, f\"Found whitespace in value {value}\"\n",
    "    try:\n",
    "      return float(value)\n",
    "    except:\n",
    "      return float(0)\n",
    "  def none_to_zero(value):\n",
    "    if value == None:\n",
    "      return 0\n",
    "    return value\n",
    "  today = datetime.today()\n",
    "  def labour_taxes_and_payments_to_avg_gross_salary(labour_taxes_and_payments, employees):\n",
    "    coef = 0.5668\n",
    "    # We consider that 25% of estonians don't gather funded pension\n",
    "    coef_without_funded_pension = coef - 0.02 + 0.015\n",
    "    coef = coef_without_funded_pension\n",
    "\n",
    "    assert type(labour_taxes_and_payments) == float, f\"labour_taxes_and_payments is not float, but {type(labour_taxes_and_payments)}\"\n",
    "    employees = int(numeric_string_to_float(employees))\n",
    "    assert type(employees) == int, f\"employees is not int, but {type(employees)}\"\n",
    "\n",
    "    gross_per_employee_per_quarter = labour_taxes_and_payments / coef / employees\n",
    "    gross_per_month = gross_per_employee_per_quarter / 3\n",
    "    return round(gross_per_month, 2)\n",
    "  def taxes_per_month_per_emp(taxes, employees):\n",
    "    return round(taxes / employees / 3, 2)\n",
    "  def founding_date_to_categoric(date_str):\n",
    "      date_format = \"%d.%m.%Y\"\n",
    "      given_date = datetime.strptime(date_str, date_format)\n",
    "\n",
    "      age_years = (today - given_date).days / 365.25\n",
    "\n",
    "      if age_years < 3:\n",
    "          return \"less than 3 years\"\n",
    "      if 3 <= age_years < 5:\n",
    "          return \"3-5 years\"\n",
    "      if 5 <= age_years < 10:\n",
    "          return \"5-10 years\"\n",
    "      if 10 <= age_years < 20:\n",
    "          return \"10-20 years\"\n",
    "      return \"20+ years\"\n",
    "  def p6hikapital_to_categoric(value):\n",
    "    value = none_to_zero(value)\n",
    "    value = numeric_string_to_float(value)\n",
    "    if value < 0.005:\n",
    "      return \"0 €\"\n",
    "    if value < 10000:\n",
    "     return \"< 10k €\"\n",
    "    if value < 100000:\n",
    "      return \"< 100k €\"\n",
    "    return \"100k € +\"\n",
    "  data_copy = data.copy()\n",
    "  if debug:\n",
    "    print(\"Length before:\", len(data_copy))\n",
    "  data_copy = drop_missing_rows(data_copy)\n",
    "  if debug:\n",
    "    print(\"Length after dropping missing rows:\", len(data_copy))\n",
    "\n",
    "\n",
    "  data_copy['Capital'] = data_copy['Põhikapital'].apply(p6hikapital_to_categoric)\n",
    "  data_copy.drop(columns=['Põhikapital'], inplace=True)\n",
    "\n",
    "  data_copy['Employees'] = data_copy['Employees'].fillna(0)\n",
    "  data_copy['Employees'] = data_copy['Employees'].apply(numeric_string_to_float)\n",
    "\n",
    "  data_copy['Turnover'] = data_copy['Turnover'].fillna(0)\n",
    "  data_copy['Turnover'] = data_copy['Turnover'].apply(numeric_string_to_float)\n",
    "\n",
    "  # We apply none to zero, since nan-s were explicit in dataset, we believe\n",
    "  # 0 values were written as empty strings and got written as None\n",
    "  data_copy['Labour taxes and payments'] = data_copy['Labour taxes and payments'].apply(none_to_zero)\n",
    "  data_copy['Labour taxes and payments'] = data_copy['Labour taxes and payments'].apply(numeric_string_to_float)\n",
    "\n",
    "  data_copy['Labour taxes and payments_next_quarter'] = data_copy['Labour taxes and payments_next_quarter'].apply(none_to_zero)\n",
    "  data_copy['Labour taxes and payments_next_quarter'] = data_copy['Labour taxes and payments_next_quarter'].apply(numeric_string_to_float)\n",
    "  # Company capital, really only applicaple for `Type = Company`\n",
    "  # Make the age of the company a gategorical value\n",
    "  data_copy['Company age'] = data_copy['Asutamise kuupäev'].apply(founding_date_to_categoric)\n",
    "  data_copy.drop(columns=['Asutamise kuupäev'], inplace=True)\n",
    "\n",
    "  # Avg employee salary is more meaningful, let's calculate it from the taxes\n",
    "  data_copy['Avg monthly salary'] = data_copy.apply(lambda row: labour_taxes_and_payments_to_avg_gross_salary(row['Labour taxes and payments'], row['Employees']), axis=1)\n",
    "  data_copy.drop(columns=['Labour taxes and payments', 'Employees'], inplace=True)\n",
    "\n",
    "  data_copy['Avg next quarter month salary'] = data_copy.apply(lambda row: labour_taxes_and_payments_to_avg_gross_salary(row['Labour taxes and payments_next_quarter'], row['Employees_next_quarter']), axis=1)\n",
    "  data_copy.drop(columns=['Labour taxes and payments_next_quarter', 'Employees_next_quarter'], inplace=True)\n",
    "\n",
    "\n",
    "\n",
    "  # The problem we realized too late was that in case of every 4th month, the previous months employee count is\n",
    "  # reported in previous quarter, but the taxes become payable for the next quarter.\n",
    "  # We don't have access to this monthly info to make corrections...\n",
    "  # In case a project that means many employees ends on last month of the quarter, the taxes still have to be paid\n",
    "  # next quarter but the employee count can drop significantly.\n",
    "  # This is also the same in case of major layoffs.\n",
    "\n",
    "  # For this problem, we decided to drop all values where the monthly avg gross salary for employee changes by more than 5k\n",
    "  data_copy = data_copy[(data_copy['Avg next quarter month salary'] - data_copy['Avg monthly salary']) <= 5000]\n",
    "  if debug:\n",
    "    print(\"Length after dropping avg salary changes:\", len(data_copy))\n",
    "  # Also we are dropping all values where we get a calculated salary over 20k\n",
    "  data_copy = data_copy[data_copy['Avg monthly salary'] <= 20000]\n",
    "  if debug:\n",
    "    print(\"Length after dropping avg salary over 20k:\", len(data_copy))\n",
    "  # and where predicted salary is over 20k\n",
    "  data_copy = data_copy[data_copy['Avg next quarter month salary'] <= 20000]\n",
    "  if debug:\n",
    "    print(\"Length after dropping predicted salary over 20k:\", len(data_copy))\n",
    "\n",
    "\n",
    "  return data_copy\n",
    "\n",
    "\n",
    "\n",
    "\n",
    "#df_train_preprocessed = preprocess(df_train)\n",
    "#print(\"Length:\", len(df_train_preprocessed))\n",
    "#df_train_preprocessed\n",
    "#df_train_preprocessed[df_train_preprocessed['Avg monthly salary'] < 1000]"
   ],
   "outputs": [],
   "execution_count": null
  },
  {
   "cell_type": "code",
   "metadata": {
    "id": "lGJUnts-Rppl"
   },
   "source": [
    "from sklearn.compose import ColumnTransformer\n",
    "\n",
    "from sklearn.preprocessing import StandardScaler, OneHotEncoder\n",
    "from sklearn.model_selection import train_test_split\n",
    "# Apply preprocessing\n",
    "\n",
    "preprocess_params = dict(\n",
    "    debug=True # default False\n",
    ")\n",
    "\n",
    "df_train_preprocessed = preprocess(df_train, **preprocess_params)\n",
    "\n",
    "df_train_preprocessed.drop(columns=['Name', 'Registry code', 'Info'], inplace=True)\n",
    "\n",
    "\n",
    "X_data = df_train_preprocessed.drop(columns=['Avg next quarter month salary'])\n",
    "y_data = df_train_preprocessed['Avg next quarter month salary']\n",
    "\n",
    "categorical_cols = X_data.select_dtypes(include=['object']).columns\n",
    "numerical_cols = X_data.select_dtypes(include=['int64', 'float64']).columns\n",
    "\n",
    "# One-hot encode categorical variables and scale numerical features\n",
    "preprocessor = ColumnTransformer(\n",
    "    transformers=[\n",
    "        ('num', StandardScaler(), numerical_cols),\n",
    "        ('cat', OneHotEncoder(handle_unknown='ignore'), categorical_cols)\n",
    "    ]\n",
    ")\n",
    "print(df_train_preprocessed.columns)\n",
    "\n",
    "#df_train_preprocessed['salary_change'] = df_train_preprocessed['Avg next quarter month salary'] - df_train_preprocessed['Avg monthly salary']\n",
    "\n",
    "# Filter rows where the change is greater than n\n",
    "#df_salary_change_more_than = df_train_preprocessed[(df_train_preprocessed['Avg next quarter month salary'] - df_train_preprocessed['Avg monthly salary']) > 5000]\n",
    "\n",
    "#df_salary_change_more_than['Type'].value_counts()"
   ],
   "outputs": [],
   "execution_count": null
  },
  {
   "cell_type": "code",
   "metadata": {
    "colab": {
     "base_uri": "https://localhost:8080/"
    },
    "collapsed": true,
    "executionInfo": {
     "elapsed": 162108,
     "status": "ok",
     "timestamp": 1733720595521,
     "user": {
      "displayName": "Kaspar Kipp",
      "userId": "17961621279629741317"
     },
     "user_tz": -120
    },
    "id": "RLeXwzV5tlu-",
    "outputId": "a8468b59-7a0b-4a64-de47-ef421ef2a2ce"
   },
   "source": [
    "### Making dataframe for all historical data\n",
    "preprocess_params = dict(\n",
    "    debug=True # default False\n",
    ")\n",
    "def preprocess_all(quarter = 1, year = 2020, **kwargs):\n",
    "  year = 2020\n",
    "  quarter = 1\n",
    "  df = pd.DataFrame()\n",
    "  while year < 2024 or quarter < 3:\n",
    "    if preprocess_params['debug']:\n",
    "      print(f\"Processing {quarter} {year}\")\n",
    "    df_for_quarter = get_compiled_data(quarter, year)\n",
    "    df_preproccessed_1 = preprocess(df_for_quarter, **preprocess_params)\n",
    "    df_preproccessed_1['Year'] = str(year)\n",
    "    df_preproccessed_1['Quarter'] = str(quarter)\n",
    "    df = pd.concat([df, df_preproccessed_1])\n",
    "    if quarter == 4:\n",
    "      quarter = 1\n",
    "      year += 1\n",
    "    else:\n",
    "      quarter += 1\n",
    "  return df\n",
    "df_historical = preprocess_all(1, 2020, **preprocess_params)\n",
    "\n",
    "all_data = df_historical.copy()\n",
    "df_historical.drop(columns=['Name', 'Registry code', 'Info'], inplace=True)\n",
    "df_historical.info()\n"
   ],
   "outputs": [],
   "execution_count": null
  },
  {
   "cell_type": "code",
   "metadata": {
    "colab": {
     "base_uri": "https://localhost:8080/",
     "height": 458
    },
    "executionInfo": {
     "elapsed": 988,
     "status": "ok",
     "timestamp": 1733708629655,
     "user": {
      "displayName": "Andres Rõõm",
      "userId": "11581507521874958776"
     },
     "user_tz": -120
    },
    "id": "GCTwSqz4eDNu",
    "outputId": "92bab010-e292-476d-aa0e-2606fde50141"
   },
   "source": [
    "\n",
    "y_data"
   ],
   "outputs": [],
   "execution_count": null
  },
  {
   "cell_type": "markdown",
   "metadata": {
    "id": "B1-KJCEZH0ex"
   },
   "source": [
    "## Testing models with previous quarter data"
   ]
  },
  {
   "cell_type": "code",
   "metadata": {
    "colab": {
     "base_uri": "https://localhost:8080/",
     "height": 1000
    },
    "executionInfo": {
     "elapsed": 33824,
     "status": "ok",
     "timestamp": 1733721062071,
     "user": {
      "displayName": "Kaspar Kipp",
      "userId": "17961621279629741317"
     },
     "user_tz": -120
    },
    "id": "3nDUZk7VfjWQ",
    "outputId": "ab651e78-2b1a-48a1-83b0-b21ad1095a27"
   },
   "source": [
    "# Predicting from previous quarter\n",
    "from sklearn.linear_model import LinearRegression, Ridge\n",
    "from sklearn.ensemble import RandomForestRegressor, GradientBoostingRegressor\n",
    "from xgboost import XGBRegressor\n",
    "\n",
    "from sklearn.pipeline import Pipeline\n",
    "import matplotlib.pyplot as plt\n",
    "\n",
    "from sklearn.metrics import classification_report, accuracy_score, mean_squared_error\n",
    "\n",
    "\n",
    "\n",
    "\n",
    "X_train, X_test, y_train, y_test = train_test_split(X_data, y_data, test_size=0.2, random_state=42)\n",
    "\n",
    "\n",
    "random_forest_params = {\n",
    "    'n_estimators': 100, # default 100\n",
    "    'max_depth': 30, # default None\n",
    "    'min_samples_split': 8, # default 2\n",
    "    'min_samples_leaf': 1, # default 1\n",
    "    'max_features': 'sqrt', # defaul 1.0\n",
    "    'n_jobs': -1, # use all cores\n",
    "    'random_state': None # default None\n",
    "}\n",
    "\n",
    "gradient_boosting_params = dict(\n",
    "    loss='squared_error',\n",
    "    learning_rate=0.1,\n",
    "    n_estimators=100, #default 100\n",
    "    subsample=1.0,\n",
    "    criterion='friedman_mse',\n",
    "    min_samples_split=2,\n",
    "    min_samples_leaf=1,\n",
    "    min_weight_fraction_leaf=0.0,\n",
    "    max_depth=3,\n",
    "    min_impurity_decrease=0.0,\n",
    "    init=None,\n",
    "    random_state=None,\n",
    "    max_features=None,\n",
    "    alpha=0.9,\n",
    "    verbose=0,\n",
    "    max_leaf_nodes=None,\n",
    "    warm_start=False,\n",
    "    validation_fraction=0.1,\n",
    "    n_iter_no_change=None,\n",
    "    tol=0.0001,\n",
    "    ccp_alpha=0.0\n",
    ")\n",
    "\n",
    "xgboost_params = dict(\n",
    "    objective='reg:squarederror',\n",
    "    learning_rate=0.05, # default 0.1\n",
    "    n_estimators=1000, #default 100\n",
    "    #subsample=1.0,\n",
    "    #max_depth=3,\n",
    "    #init=None,\n",
    "    #random_state=None,\n",
    "    #max_features=None,\n",
    "    #alpha=0.9,\n",
    "    #max_leaf_nodes=None,\n",
    "    #n_iter_no_change=None\n",
    "    n_jobs = -1\n",
    ")\n",
    "\n",
    "models = {\n",
    "    'Simple linear': Pipeline(steps=[\n",
    "        ('preprocessor', preprocessor),\n",
    "        ('classifier', LinearRegression())\n",
    "    ]),\n",
    "    'Ridge Regression': Pipeline(steps=[\n",
    "        ('preprocessor', preprocessor),\n",
    "        ('classifier', Ridge(alpha=1.0))\n",
    "    ]),\n",
    "    'Random Forest': Pipeline(steps=[\n",
    "        ('preprocessor', preprocessor),\n",
    "        ('classifier', RandomForestRegressor(**random_forest_params))\n",
    "    ]),\n",
    "    'Gradient Boosting': Pipeline(steps=[\n",
    "        ('preprocessor', preprocessor),\n",
    "        ('classifier', GradientBoostingRegressor(**gradient_boosting_params))\n",
    "    ]),\n",
    "    'XGBoost': Pipeline(steps=[\n",
    "        ('preprocessor', preprocessor),\n",
    "        ('classifier', XGBRegressor(**xgboost_params))\n",
    "    ])\n",
    "}\n",
    "\n",
    "\n",
    "\n",
    "model_results = dict()\n",
    "model_preds = dict()\n",
    "\n",
    "for name, model in models.items():\n",
    "    print(f\"Training {name}\")\n",
    "    model.fit(X_train, y_train)\n",
    "    y_pred = model.predict(X_test)\n",
    "    mse = mean_squared_error(y_test, y_pred)\n",
    "\n",
    "    rmse = np.sqrt(mse)\n",
    "    print(f\"Root Mean Squared Error: {rmse}\")\n",
    "\n",
    "\n",
    "    model_results[name] = rmse\n",
    "    model_preds[name] = y_pred\n",
    "\n",
    "    #for test, pred in zip(y_test, y_pred):\n",
    "    #  print(f\"Test: {test}, Predicted: {pred}\")\n",
    "\n",
    "for name, y_pred in model_preds.items():\n",
    "    plt.scatter(y_test, y_pred)\n",
    "    plt.title(f'Predictions for {name}')\n",
    "    plt.xlabel('Actual Labor Taxes')\n",
    "    plt.ylabel('Predicted Labor Taxes')\n",
    "    plt.show()\n",
    "    print()\n",
    "\n"
   ],
   "outputs": [],
   "execution_count": null
  },
  {
   "cell_type": "code",
   "metadata": {
    "colab": {
     "base_uri": "https://localhost:8080/",
     "height": 659
    },
    "executionInfo": {
     "elapsed": 578,
     "status": "ok",
     "timestamp": 1733721062643,
     "user": {
      "displayName": "Kaspar Kipp",
      "userId": "17961621279629741317"
     },
     "user_tz": -120
    },
    "id": "RhdeZKe1htHj",
    "outputId": "1e8b5685-6dc6-4ceb-f2dd-9ae6905f9008"
   },
   "source": [
    "import seaborn as sns\n",
    "import matplotlib.pyplot as plt\n",
    "\n",
    "# Convert the dictionary to a DataFrame for easier plotting with seaborn\n",
    "df = pd.DataFrame(list(model_results.items()), columns=['Model', 'RMSE'])\n",
    "\n",
    "# Create the barplot\n",
    "plt.figure(figsize=(10, 6))\n",
    "sns.barplot(y='RMSE', x='Model', data=df, palette='viridis')\n",
    "\n",
    "# Set the title and labels\n",
    "plt.title('Model RMSE Comparison when predicting from previous quarter', fontsize=16)\n",
    "plt.xlabel('Root Mean Squared Error (RMSE)', fontsize=12)\n",
    "plt.ylabel('Model name', fontsize=12)\n",
    "\n",
    "# Display the plot\n",
    "plt.show()"
   ],
   "outputs": [],
   "execution_count": null
  },
  {
   "cell_type": "markdown",
   "metadata": {
    "id": "5VQx6lhy45cW"
   },
   "source": [
    "## Testing models with historical data"
   ]
  },
  {
   "cell_type": "code",
   "metadata": {
    "colab": {
     "base_uri": "https://localhost:8080/",
     "height": 1000
    },
    "executionInfo": {
     "elapsed": 1139469,
     "status": "ok",
     "timestamp": 1733724283880,
     "user": {
      "displayName": "Kaspar Kipp",
      "userId": "17961621279629741317"
     },
     "user_tz": -120
    },
    "id": "LTh-TPGI1pqI",
    "outputId": "5a4cc789-02f9-4203-dee2-3c08e997e298"
   },
   "source": [
    "# Using historical data\n",
    "\n",
    "\n",
    "X_data = df_historical.drop(columns=['Avg next quarter month salary'])\n",
    "y_data = df_historical['Avg next quarter month salary']\n",
    "\n",
    "categorical_cols = X_data.select_dtypes(include=['object']).columns\n",
    "numerical_cols = X_data.select_dtypes(include=['int64', 'float64']).columns\n",
    "\n",
    "X_train, X_test, y_train, y_test = train_test_split(X_data, y_data, test_size=0.2, random_state=42)\n",
    "\n",
    "\n",
    "random_forest_params = {\n",
    "    'n_estimators': 100, # default 100\n",
    "    'max_depth': 30, # default None\n",
    "    'min_samples_split': 8, # default 2\n",
    "    'min_samples_leaf': 1, # default 1\n",
    "    'max_features': 'sqrt', # defaul 1.0\n",
    "    'n_jobs': -1, # use all cores\n",
    "    'random_state': None # default None\n",
    "}\n",
    "\n",
    "gradient_boosting_params = dict(\n",
    "    loss='squared_error',\n",
    "    learning_rate=0.1,\n",
    "    n_estimators=100, #default 100\n",
    "    subsample=1.0,\n",
    "    criterion='friedman_mse',\n",
    "    min_samples_split=2,\n",
    "    min_samples_leaf=1,\n",
    "    min_weight_fraction_leaf=0.0,\n",
    "    max_depth=3,\n",
    "    min_impurity_decrease=0.0,\n",
    "    init=None,\n",
    "    random_state=None,\n",
    "    max_features=None,\n",
    "    alpha=0.9,\n",
    "    verbose=0,\n",
    "    max_leaf_nodes=None,\n",
    "    warm_start=False,\n",
    "    validation_fraction=0.1,\n",
    "    n_iter_no_change=None,\n",
    "    tol=0.0001,\n",
    "    ccp_alpha=0.0\n",
    ")\n",
    "\n",
    "xgboost_params = dict(\n",
    "    objective='reg:squarederror',\n",
    "    learning_rate=0.05, # default 0.1\n",
    "    n_estimators=1000, #default 100\n",
    "    #subsample=1.0,\n",
    "    #max_depth=3,\n",
    "    #init=None,\n",
    "    #random_state=None,\n",
    "    #max_features=None,\n",
    "    #alpha=0.9,\n",
    "    #max_leaf_nodes=None,\n",
    "    #n_iter_no_change=None\n",
    "    n_jobs = -1\n",
    ")\n",
    "\n",
    "models = {\n",
    "    'Simple linear': Pipeline(steps=[\n",
    "        ('preprocessor', preprocessor),\n",
    "        ('classifier', LinearRegression())\n",
    "    ]),\n",
    "    'Ridge Regression': Pipeline(steps=[\n",
    "        ('preprocessor', preprocessor),\n",
    "        ('classifier', Ridge(alpha=1.0))\n",
    "    ]),\n",
    "    'Random Forest': Pipeline(steps=[\n",
    "        ('preprocessor', preprocessor),\n",
    "        ('classifier', RandomForestRegressor(**random_forest_params))\n",
    "    ]),\n",
    "    'Gradient Boosting': Pipeline(steps=[\n",
    "        ('preprocessor', preprocessor),\n",
    "        ('classifier', GradientBoostingRegressor(**gradient_boosting_params))\n",
    "    ]),\n",
    "    'XGBoost': Pipeline(steps=[\n",
    "        ('preprocessor', preprocessor),\n",
    "        ('classifier', XGBRegressor(**xgboost_params))\n",
    "    ])\n",
    "}\n",
    "\n",
    "\n",
    "model_results = dict()\n",
    "model_preds = dict()\n",
    "\n",
    "for name, model in models.items():\n",
    "    print(f\"Training {name}\")\n",
    "    model.fit(X_train, y_train)\n",
    "    y_pred = model.predict(X_test)\n",
    "    mse = mean_squared_error(y_test, y_pred)\n",
    "\n",
    "    rmse = np.sqrt(mse)\n",
    "    print(f\"Root Mean Squared Error: {rmse}\")\n",
    "\n",
    "\n",
    "    model_results[name] = rmse\n",
    "    model_preds[name] = y_pred\n",
    "\n",
    "    #for test, pred in zip(y_test, y_pred):\n",
    "    #  print(f\"Test: {test}, Predicted: {pred}\")\n",
    "\n",
    "for name, y_pred in model_preds.items():\n",
    "    plt.scatter(y_test, y_pred)\n",
    "    plt.title(f'Predictions for {name}')\n",
    "    plt.xlabel('Actual Labor Taxes')\n",
    "    plt.ylabel('Predicted Labor Taxes')\n",
    "    plt.show()\n",
    "    print()\n",
    "\n"
   ],
   "outputs": [],
   "execution_count": null
  },
  {
   "cell_type": "code",
   "metadata": {
    "colab": {
     "base_uri": "https://localhost:8080/",
     "height": 659
    },
    "executionInfo": {
     "elapsed": 962,
     "status": "ok",
     "timestamp": 1733724380139,
     "user": {
      "displayName": "Kaspar Kipp",
      "userId": "17961621279629741317"
     },
     "user_tz": -120
    },
    "id": "YAKpwb2cp7ox",
    "outputId": "30746e53-bba1-4b5d-f06d-bc8cb607d2ce"
   },
   "source": [
    "\n",
    "# Convert the dictionary to a DataFrame for easier plotting with seaborn\n",
    "df = pd.DataFrame(list(model_results.items()), columns=['Model', 'RMSE'])\n",
    "\n",
    "# Create the barplot\n",
    "plt.figure(figsize=(10, 6))\n",
    "sns.barplot(y='RMSE', x='Model', data=df, palette='viridis')\n",
    "\n",
    "# Set the title and labels\n",
    "plt.title('Model RMSE Comparison when predicting from historic data', fontsize=16)\n",
    "plt.ylabel('Root Mean Squared Error (RMSE)', fontsize=12)\n",
    "plt.xlabel('Model name', fontsize=12)\n",
    "\n",
    "# Display the plot\n",
    "plt.show()"
   ],
   "outputs": [],
   "execution_count": null
  },
  {
   "cell_type": "markdown",
   "metadata": {
    "id": "23U9wmU2IIYe"
   },
   "source": [
    "## Simple tool for users"
   ]
  },
  {
   "cell_type": "markdown",
   "metadata": {
    "id": "dTUmBj3CUSgJ"
   },
   "source": [
    "### Finding the best model for cli tool\n"
   ]
  },
  {
   "cell_type": "code",
   "metadata": {
    "colab": {
     "base_uri": "https://localhost:8080/"
    },
    "executionInfo": {
     "elapsed": 847,
     "status": "ok",
     "timestamp": 1733729308659,
     "user": {
      "displayName": "Kaspar Kipp",
      "userId": "17961621279629741317"
     },
     "user_tz": -120
    },
    "id": "wL4mDg2sUVmb",
    "outputId": "1e1320a1-ebed-4d0a-b4a4-ac717b23dce2"
   },
   "source": [
    "best_model_name = None\n",
    "best_res = 99999999\n",
    "for name, rmse in model_results.items():\n",
    "  if rmse < best_res:\n",
    "    best_res = rmse\n",
    "    best_model_name = name\n",
    "print(f\"Best model is {best_model_name} with RMSE {best_res}\")"
   ],
   "outputs": [],
   "execution_count": null
  },
  {
   "cell_type": "code",
   "metadata": {
    "colab": {
     "base_uri": "https://localhost:8080/",
     "height": 221
    },
    "executionInfo": {
     "elapsed": 115048,
     "status": "ok",
     "timestamp": 1733729749928,
     "user": {
      "displayName": "Kaspar Kipp",
      "userId": "17961621279629741317"
     },
     "user_tz": -120
    },
    "id": "w21QysjjVi-S",
    "outputId": "e3376bfc-018d-4a42-ee4a-0eb93f30f42c"
   },
   "source": [
    "# Training our best model on the whole dataset\n",
    "best_model = Pipeline(steps=[\n",
    "        ('preprocessor', preprocessor),\n",
    "        ('classifier', XGBRegressor(**xgboost_params))\n",
    "    ])\n",
    "X_all = df_historical.drop(columns=['Avg next quarter month salary'])\n",
    "y_all = df_historical['Avg next quarter month salary']\n",
    "\n",
    "\n",
    "best_model.fit(X_all, y_all)\n"
   ],
   "outputs": [],
   "execution_count": null
  },
  {
   "cell_type": "markdown",
   "metadata": {
    "id": "ivqsxophXF1q"
   },
   "source": [
    "### Playground"
   ]
  },
  {
   "cell_type": "code",
   "metadata": {
    "colab": {
     "base_uri": "https://localhost:8080/"
    },
    "executionInfo": {
     "elapsed": 5011,
     "status": "ok",
     "timestamp": 1733730533645,
     "user": {
      "displayName": "Kaspar Kipp",
      "userId": "17961621279629741317"
     },
     "user_tz": -120
    },
    "id": "o2JaP7ZHILgp",
    "outputId": "7f1a0113-2653-4570-bf23-15a8f7c346d3"
   },
   "source": [
    "def find_company_by_name():\n",
    "  companies = set(zip(all_data['Registry code'],all_data['Name']))\n",
    "  unique_companies = {reg_code: name for reg_code, name in companies}\n",
    "\n",
    "  # Convert back to a set of tuples if needed\n",
    "  companies = set(unique_companies.items())\n",
    "  while True:\n",
    "    user_input = input(\"Enter the company name or a partial name to search: \").strip()\n",
    "    matches = [company for company in companies if user_input.lower() in company[1].lower()]\n",
    "\n",
    "    if len(matches) == 1:\n",
    "      print(f\"Found exact match: {matches[0][1]}\")\n",
    "      return matches[0]\n",
    "    if len(matches) == 0:\n",
    "      print(f\"No company with enough public info for {user_input}\")\n",
    "      print(f\"If you'd like to enter data manually enter 1, or 0 to refine search: \")\n",
    "      try:\n",
    "        selection = int(input(\"If you'd like to enter data manually enter 1, or 0 to refine search: \"))\n",
    "        if selection == 0:\n",
    "          continue\n",
    "        if selection == 1:\n",
    "          return None, user_input\n",
    "      except ValueError:\n",
    "        continue\n",
    "    elif len(matches) > 5:\n",
    "      print(\"Too many matches found. Please refine your search.\")\n",
    "    else:\n",
    "      print(\"Here are the matching options:\")\n",
    "      for id, m in enumerate(matches):\n",
    "        print(f\"{id + 1}. {m}\")\n",
    "      try:\n",
    "        selection = int(input(\"Enter the number of your choice, or 0 to refine search: \"))\n",
    "        if selection == 0:\n",
    "          continue\n",
    "        if 1 <= selection <= len(matches):\n",
    "          print(f\"You selected: {matches[selection - 1]}\")\n",
    "          return matches[selection - 1]\n",
    "        print(\"Invalid selection. Please try again.\")\n",
    "      except ValueError:\n",
    "        print(\"Invalid input. Please enter a number.\")\n",
    "def get_next_quarter():\n",
    "  return 4, 2024\n",
    "\n",
    "def manual_input(company_name):\n",
    "  entity_type = int(input(\"Enter the entity type 1 - 'Company',  2- 'Government or state authority', 3 - 'Non-profit association': \"))\n",
    "  if entity_type == 1:\n",
    "    entity_type = 'Company'\n",
    "  elif entity_type == 2:\n",
    "    entity_type = 'Government or state authority'\n",
    "  else:\n",
    "    entity_type = 'Non-profit association'\n",
    "\n",
    "  turnover = float(input(\"Enter the company_turnover: \"))\n",
    "\n",
    "  capital = int(input(\"Enter company capital 1 - '0 €', 2 - '< 10k €', 3 - '< 100k €', 4 - '100k € +'\"))\n",
    "  if capital == 1:\n",
    "    capital = '0 €'\n",
    "  elif capital == 2:\n",
    "    capital = '< 10k €'\n",
    "  elif capital == 3:\n",
    "    capital = '< 100k €'\n",
    "  else:\n",
    "    capital = '100k € +'\n",
    "\n",
    "  company_age = int(input(\"Enter company age 1 - '20+ years', 2 - '10-20 years', 3 - '5-10 years', 4 - '3-5 years',\\\n",
    "       5 - 'less than 3 years'\"))\n",
    "  if company_age == 1:\n",
    "    company_age = '20+ years'\n",
    "  elif company_age == 2:\n",
    "    company_age = '10-20 years'\n",
    "  elif company_age == 3:\n",
    "    company_age = '5-10 years'\n",
    "  elif company_age == 4:\n",
    "    company_age = '3-5 years'\n",
    "  else:\n",
    "    company_age = 'less than 3 years'\n",
    "  last_average_salary = float(input(\"Enter the last average salary: \"))\n",
    "  emtak_code = int(input(\"Enter the emtak code: (for example 45111)\"))\n",
    "  next_quarter, year = get_next_quarter()\n",
    "  manual = {\n",
    "    \"Type\": [entity_type],\n",
    "    \"Turnover\": [turnover],\n",
    "    \"Staatus\": [\"Registrisse kantud\"],\n",
    "    \"Põhitegevusala\": [emtak_code],\n",
    "    \"Capital\": [capital],\n",
    "    \"Company age\": [company_age],\n",
    "    \"Avg monthly salary\": [last_average_salary],\n",
    "    \"Year\": [year],\n",
    "    \"Quarter\": [next_quarter]\n",
    "  }\n",
    "  return pd.DataFrame(manual).iloc[0]\n",
    "\n",
    "\n",
    "reg_code, company_name = find_company_by_name()\n",
    "\n",
    "if reg_code:\n",
    "  next_quarter, year = get_next_quarter()\n",
    "  all_data_sorted = all_data.sort_values(by=['Year', 'Quarter'], ascending=[False, False])\n",
    "  location = all_data_sorted[all_data_sorted['Registry code'] == reg_code]\n",
    "  example = location.iloc[0]\n",
    "  example = example.copy()\n",
    "  example['Year'] = year\n",
    "  example['Quarter'] = next_quarter\n",
    "else:\n",
    "  example = manual_input(company_name)\n",
    "\n",
    "prediction = best_model.predict(pd.DataFrame([example]))\n",
    "print(f\"Predicted avg salary for Q{example['Quarter']} {example['Year']}: {prediction[0]}\")"
   ],
   "outputs": [],
   "execution_count": null
  }
 ],
 "metadata": {
  "accelerator": "TPU",
  "colab": {
   "collapsed_sections": [
    "hg7B0p3IHbRz"
   ],
   "gpuType": "V28",
   "provenance": []
  },
  "kernelspec": {
   "display_name": "Python 3 (ipykernel)",
   "name": "python3",
   "language": "python"
  },
  "language_info": {
   "name": "python"
  }
 },
 "nbformat": 4,
 "nbformat_minor": 0
}
